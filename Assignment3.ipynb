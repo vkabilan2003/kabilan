{
  "nbformat": 4,
  "nbformat_minor": 0,
  "metadata": {
    "colab": {
      "provenance": []
    },
    "kernelspec": {
      "name": "python3",
      "display_name": "Python 3"
    },
    "language_info": {
      "name": "python"
    }
  },
  "cells": [
    {
      "cell_type": "code",
      "execution_count": 30,
      "metadata": {
        "colab": {
          "base_uri": "https://localhost:8080/"
        },
        "id": "Ho7HrEYGLwaz",
        "outputId": "6093792f-d695-419f-fbef-c9fae094b553"
      },
      "outputs": [
        {
          "output_type": "stream",
          "name": "stdout",
          "text": [
            "Drive already mounted at /content/drive; to attempt to forcibly remount, call drive.mount(\"/content/drive\", force_remount=True).\n"
          ]
        }
      ],
      "source": [
        "from google.colab import drive\n",
        "drive.mount('/content/drive')"
      ]
    },
    {
      "cell_type": "code",
      "source": [
        "#Extracting Data\n",
        "!unzip \"/content/drive/MyDrive/dataset (2).zip\""
      ],
      "metadata": {
        "colab": {
          "base_uri": "https://localhost:8080/"
        },
        "id": "__r2JxNuBb6C",
        "outputId": "e5367675-ff38-4bcf-e183-5515e79aa0dd"
      },
      "execution_count": 33,
      "outputs": [
        {
          "output_type": "stream",
          "name": "stdout",
          "text": [
            "Archive:  /content/drive/MyDrive/dataset (2).zip\n",
            "replace animals/animals/antelope/02f4b3be2d.jpg? [y]es, [n]o, [A]ll, [N]one, [r]ename: "
          ]
        }
      ]
    },
    {
      "cell_type": "code",
      "source": [
        "from tensorflow.keras.preprocessing.image import ImageDataGenerator"
      ],
      "metadata": {
        "id": "ThbXTq0gFt61"
      },
      "execution_count": 34,
      "outputs": []
    },
    {
      "cell_type": "code",
      "source": [
        "#Augmentation On Training Variable\n",
        "train_datagen = ImageDataGenerator(rescale= 1./255,\n",
        "                 zoom_range=0.2,\n",
        "                 horizontal_flip =True)"
      ],
      "metadata": {
        "id": "yjSz14MbGF9f"
      },
      "execution_count": 35,
      "outputs": []
    },
    {
      "cell_type": "code",
      "source": [
        "#Augmentation On Testing Variable\n",
        "test_datagen = ImageDataGenerator(rescale= 1./255)"
      ],
      "metadata": {
        "id": "s3tMWJWeGen2"
      },
      "execution_count": 8,
      "outputs": []
    },
    {
      "cell_type": "code",
      "source": [
        "#Augmentation On Training Variable\n",
        "ftrain = train_datagen.flow_from_directory('/content/drive/MyDrive/Train', #Insert your Train data folder link\n",
        "                                           target_size=(64,64),\n",
        "                                           class_mode='categorical',\n",
        "                                           batch_size=100)"
      ],
      "metadata": {
        "colab": {
          "base_uri": "https://localhost:8080/"
        },
        "id": "-QCotaihG9LC",
        "outputId": "7e39b369-023c-4dd5-b21d-e13920a01964"
      },
      "execution_count": 36,
      "outputs": [
        {
          "output_type": "stream",
          "name": "stdout",
          "text": [
            "Found 35 images belonging to 6 classes.\n"
          ]
        }
      ]
    },
    {
      "cell_type": "code",
      "source": [
        "#Augmentation On Testing Variable\n",
        "ftest = test_datagen.flow_from_directory('/content/drive/MyDrive/Test', #Insert your Test data folder link\n",
        "                                          target_size=(64,64),\n",
        "                                          class_mode='categorical',\n",
        "                                          batch_size=100)"
      ],
      "metadata": {
        "colab": {
          "base_uri": "https://localhost:8080/"
        },
        "id": "eoddDTgjHRG3",
        "outputId": "9178aefc-a68b-4278-aaff-70d48ae35f24"
      },
      "execution_count": 37,
      "outputs": [
        {
          "output_type": "stream",
          "name": "stdout",
          "text": [
            "Found 35 images belonging to 6 classes.\n"
          ]
        }
      ]
    },
    {
      "cell_type": "code",
      "source": [
        "#Import req. Lib.\n",
        "from tensorflow.keras.models import Sequential\n",
        "from tensorflow.keras.layers import Convolution2D, MaxPooling2D, Flatten, Dense"
      ],
      "metadata": {
        "id": "uSUxWSfiHftn"
      },
      "execution_count": 38,
      "outputs": []
    },
    {
      "cell_type": "code",
      "source": [
        "# Build a CNN Block:\n",
        "model = Sequential() #intializing sequential model\n",
        "model.add(Convolution2D(32,(3,3),activation='relu', input_shape=(64,64,3))) #convolution layer\n",
        "model.add(MaxPooling2D(pool_size=(2, 2))) #Maxpooling layer\n",
        "model.add(Flatten()) #Flatten layer\n",
        "model.add(Dense(400,activation='relu')) #Hidden Layer 1\n",
        "model.add(Dense(200,activation='relu')) #Hidden Layer 2\n",
        "model.add(Dense(6,activation='softmax')) #Output Layer"
      ],
      "metadata": {
        "id": "r808lEsdHuBN"
      },
      "execution_count": 39,
      "outputs": []
    },
    {
      "cell_type": "code",
      "source": [
        "# Compiling The Model...\n",
        "model.compile(optimizer='adam',loss='categorical_crossentropy',metrics=['accuracy'])"
      ],
      "metadata": {
        "id": "mP0_MXIUH07Y"
      },
      "execution_count": 40,
      "outputs": []
    },
    {
      "cell_type": "code",
      "source": [
        "#Train Model:\n",
        "model.fit_generator(ftrain,\n",
        "                    steps_per_epoch=len(ftrain),\n",
        "                    epochs=400,\n",
        "                    validation_data=ftest,\n",
        "                    validation_steps=len(ftest))"
      ],
      "metadata": {
        "colab": {
          "base_uri": "https://localhost:8080/"
        },
        "id": "OA6-hiUBIDUW",
        "outputId": "df3f98f4-e24b-4602-95d4-b9cb89440e0a"
      },
      "execution_count": 41,
      "outputs": [
        {
          "output_type": "stream",
          "name": "stderr",
          "text": [
            "<ipython-input-41-f2e6f8443d73>:2: UserWarning: `Model.fit_generator` is deprecated and will be removed in a future version. Please use `Model.fit`, which supports generators.\n",
            "  model.fit_generator(ftrain,\n"
          ]
        },
        {
          "output_type": "stream",
          "name": "stdout",
          "text": [
            "Epoch 1/400\n",
            "1/1 [==============================] - 9s 9s/step - loss: 1.8064 - accuracy: 0.1714 - val_loss: 2.7991 - val_accuracy: 0.2286\n",
            "Epoch 2/400\n",
            "1/1 [==============================] - 2s 2s/step - loss: 2.6456 - accuracy: 0.2286 - val_loss: 2.8055 - val_accuracy: 0.1714\n",
            "Epoch 3/400\n",
            "1/1 [==============================] - 2s 2s/step - loss: 2.7508 - accuracy: 0.1714 - val_loss: 3.2155 - val_accuracy: 0.2286\n",
            "Epoch 4/400\n",
            "1/1 [==============================] - 1s 1s/step - loss: 3.1132 - accuracy: 0.2000 - val_loss: 2.4842 - val_accuracy: 0.1714\n",
            "Epoch 5/400\n",
            "1/1 [==============================] - 1s 1s/step - loss: 2.4126 - accuracy: 0.2286 - val_loss: 2.2025 - val_accuracy: 0.2857\n",
            "Epoch 6/400\n",
            "1/1 [==============================] - 1s 1s/step - loss: 2.1948 - accuracy: 0.2571 - val_loss: 2.1333 - val_accuracy: 0.2571\n",
            "Epoch 7/400\n",
            "1/1 [==============================] - 1s 1s/step - loss: 2.0914 - accuracy: 0.2571 - val_loss: 1.7606 - val_accuracy: 0.3143\n",
            "Epoch 8/400\n",
            "1/1 [==============================] - 1s 1s/step - loss: 1.7879 - accuracy: 0.3143 - val_loss: 1.4191 - val_accuracy: 0.5429\n",
            "Epoch 9/400\n",
            "1/1 [==============================] - 1s 1s/step - loss: 1.4879 - accuracy: 0.4857 - val_loss: 1.4504 - val_accuracy: 0.3429\n",
            "Epoch 10/400\n",
            "1/1 [==============================] - 2s 2s/step - loss: 1.4954 - accuracy: 0.3143 - val_loss: 1.4031 - val_accuracy: 0.3714\n",
            "Epoch 11/400\n",
            "1/1 [==============================] - 2s 2s/step - loss: 1.4411 - accuracy: 0.3429 - val_loss: 1.2257 - val_accuracy: 0.6286\n",
            "Epoch 12/400\n",
            "1/1 [==============================] - 2s 2s/step - loss: 1.3209 - accuracy: 0.5429 - val_loss: 1.1479 - val_accuracy: 0.8000\n",
            "Epoch 13/400\n",
            "1/1 [==============================] - 1s 1s/step - loss: 1.2580 - accuracy: 0.6286 - val_loss: 1.1316 - val_accuracy: 0.7143\n",
            "Epoch 14/400\n",
            "1/1 [==============================] - 1s 1s/step - loss: 1.2524 - accuracy: 0.5714 - val_loss: 1.0614 - val_accuracy: 0.7429\n",
            "Epoch 15/400\n",
            "1/1 [==============================] - 1s 1s/step - loss: 1.1797 - accuracy: 0.5714 - val_loss: 0.9598 - val_accuracy: 0.7429\n",
            "Epoch 16/400\n",
            "1/1 [==============================] - 1s 1s/step - loss: 1.1132 - accuracy: 0.6571 - val_loss: 0.8381 - val_accuracy: 0.8857\n",
            "Epoch 17/400\n",
            "1/1 [==============================] - 3s 3s/step - loss: 1.0337 - accuracy: 0.8000 - val_loss: 0.7434 - val_accuracy: 0.8857\n",
            "Epoch 18/400\n",
            "1/1 [==============================] - 2s 2s/step - loss: 0.8908 - accuracy: 0.9143 - val_loss: 0.6911 - val_accuracy: 0.8857\n",
            "Epoch 19/400\n",
            "1/1 [==============================] - 1s 1s/step - loss: 0.8269 - accuracy: 0.8857 - val_loss: 0.6407 - val_accuracy: 0.8857\n",
            "Epoch 20/400\n",
            "1/1 [==============================] - 1s 1s/step - loss: 0.7661 - accuracy: 0.9143 - val_loss: 0.5562 - val_accuracy: 0.9143\n",
            "Epoch 21/400\n",
            "1/1 [==============================] - 1s 1s/step - loss: 0.6776 - accuracy: 0.8571 - val_loss: 0.4759 - val_accuracy: 0.9143\n",
            "Epoch 22/400\n",
            "1/1 [==============================] - 1s 1s/step - loss: 0.5737 - accuracy: 0.9143 - val_loss: 0.4195 - val_accuracy: 0.8857\n",
            "Epoch 23/400\n",
            "1/1 [==============================] - 1s 1s/step - loss: 0.5746 - accuracy: 0.8571 - val_loss: 0.3682 - val_accuracy: 0.9143\n",
            "Epoch 24/400\n",
            "1/1 [==============================] - 3s 3s/step - loss: 0.4962 - accuracy: 0.9143 - val_loss: 0.3054 - val_accuracy: 0.9143\n",
            "Epoch 25/400\n",
            "1/1 [==============================] - 2s 2s/step - loss: 0.4559 - accuracy: 0.8857 - val_loss: 0.2544 - val_accuracy: 0.9714\n",
            "Epoch 26/400\n",
            "1/1 [==============================] - 1s 1s/step - loss: 0.3700 - accuracy: 0.9714 - val_loss: 0.2249 - val_accuracy: 0.9429\n",
            "Epoch 27/400\n",
            "1/1 [==============================] - 2s 2s/step - loss: 0.3056 - accuracy: 1.0000 - val_loss: 0.2042 - val_accuracy: 0.9714\n",
            "Epoch 28/400\n",
            "1/1 [==============================] - 2s 2s/step - loss: 0.2340 - accuracy: 1.0000 - val_loss: 0.1634 - val_accuracy: 0.9429\n",
            "Epoch 29/400\n",
            "1/1 [==============================] - 2s 2s/step - loss: 0.2374 - accuracy: 1.0000 - val_loss: 0.1243 - val_accuracy: 1.0000\n",
            "Epoch 30/400\n",
            "1/1 [==============================] - 3s 3s/step - loss: 0.2277 - accuracy: 1.0000 - val_loss: 0.1120 - val_accuracy: 0.9714\n",
            "Epoch 31/400\n",
            "1/1 [==============================] - 1s 1s/step - loss: 0.2122 - accuracy: 0.9429 - val_loss: 0.1357 - val_accuracy: 0.9143\n",
            "Epoch 32/400\n",
            "1/1 [==============================] - 1s 1s/step - loss: 0.1727 - accuracy: 0.9714 - val_loss: 0.0931 - val_accuracy: 0.9714\n",
            "Epoch 33/400\n",
            "1/1 [==============================] - 1s 1s/step - loss: 0.1252 - accuracy: 1.0000 - val_loss: 0.0595 - val_accuracy: 1.0000\n",
            "Epoch 34/400\n",
            "1/1 [==============================] - 1s 1s/step - loss: 0.1382 - accuracy: 1.0000 - val_loss: 0.0452 - val_accuracy: 1.0000\n",
            "Epoch 35/400\n",
            "1/1 [==============================] - 2s 2s/step - loss: 0.0879 - accuracy: 1.0000 - val_loss: 0.0375 - val_accuracy: 1.0000\n",
            "Epoch 36/400\n",
            "1/1 [==============================] - 3s 3s/step - loss: 0.0635 - accuracy: 1.0000 - val_loss: 0.0412 - val_accuracy: 1.0000\n",
            "Epoch 37/400\n",
            "1/1 [==============================] - 1s 1s/step - loss: 0.0773 - accuracy: 1.0000 - val_loss: 0.0280 - val_accuracy: 1.0000\n",
            "Epoch 38/400\n",
            "1/1 [==============================] - 1s 1s/step - loss: 0.0628 - accuracy: 1.0000 - val_loss: 0.0211 - val_accuracy: 1.0000\n",
            "Epoch 39/400\n",
            "1/1 [==============================] - 1s 1s/step - loss: 0.0550 - accuracy: 1.0000 - val_loss: 0.0212 - val_accuracy: 1.0000\n",
            "Epoch 40/400\n",
            "1/1 [==============================] - 2s 2s/step - loss: 0.0387 - accuracy: 1.0000 - val_loss: 0.0221 - val_accuracy: 1.0000\n",
            "Epoch 41/400\n",
            "1/1 [==============================] - 2s 2s/step - loss: 0.0505 - accuracy: 1.0000 - val_loss: 0.0141 - val_accuracy: 1.0000\n",
            "Epoch 42/400\n",
            "1/1 [==============================] - 1s 1s/step - loss: 0.0373 - accuracy: 1.0000 - val_loss: 0.0124 - val_accuracy: 1.0000\n",
            "Epoch 43/400\n",
            "1/1 [==============================] - 1s 1s/step - loss: 0.0292 - accuracy: 1.0000 - val_loss: 0.0124 - val_accuracy: 1.0000\n",
            "Epoch 44/400\n",
            "1/1 [==============================] - 1s 1s/step - loss: 0.0165 - accuracy: 1.0000 - val_loss: 0.0140 - val_accuracy: 1.0000\n",
            "Epoch 45/400\n",
            "1/1 [==============================] - 1s 1s/step - loss: 0.0238 - accuracy: 1.0000 - val_loss: 0.0107 - val_accuracy: 1.0000\n",
            "Epoch 46/400\n",
            "1/1 [==============================] - 1s 1s/step - loss: 0.0092 - accuracy: 1.0000 - val_loss: 0.0084 - val_accuracy: 1.0000\n",
            "Epoch 47/400\n",
            "1/1 [==============================] - 1s 1s/step - loss: 0.0213 - accuracy: 1.0000 - val_loss: 0.0071 - val_accuracy: 1.0000\n",
            "Epoch 48/400\n",
            "1/1 [==============================] - 2s 2s/step - loss: 0.0142 - accuracy: 1.0000 - val_loss: 0.0056 - val_accuracy: 1.0000\n",
            "Epoch 49/400\n",
            "1/1 [==============================] - 2s 2s/step - loss: 0.0155 - accuracy: 1.0000 - val_loss: 0.0048 - val_accuracy: 1.0000\n",
            "Epoch 50/400\n",
            "1/1 [==============================] - 1s 1s/step - loss: 0.0139 - accuracy: 1.0000 - val_loss: 0.0039 - val_accuracy: 1.0000\n",
            "Epoch 51/400\n",
            "1/1 [==============================] - 1s 1s/step - loss: 0.0081 - accuracy: 1.0000 - val_loss: 0.0034 - val_accuracy: 1.0000\n",
            "Epoch 52/400\n",
            "1/1 [==============================] - 1s 1s/step - loss: 0.0117 - accuracy: 1.0000 - val_loss: 0.0031 - val_accuracy: 1.0000\n",
            "Epoch 53/400\n",
            "1/1 [==============================] - 1s 1s/step - loss: 0.0083 - accuracy: 1.0000 - val_loss: 0.0030 - val_accuracy: 1.0000\n",
            "Epoch 54/400\n",
            "1/1 [==============================] - 2s 2s/step - loss: 0.0084 - accuracy: 1.0000 - val_loss: 0.0033 - val_accuracy: 1.0000\n",
            "Epoch 55/400\n",
            "1/1 [==============================] - 2s 2s/step - loss: 0.0047 - accuracy: 1.0000 - val_loss: 0.0038 - val_accuracy: 1.0000\n",
            "Epoch 56/400\n",
            "1/1 [==============================] - 1s 1s/step - loss: 0.0056 - accuracy: 1.0000 - val_loss: 0.0041 - val_accuracy: 1.0000\n",
            "Epoch 57/400\n",
            "1/1 [==============================] - 1s 1s/step - loss: 0.0045 - accuracy: 1.0000 - val_loss: 0.0042 - val_accuracy: 1.0000\n",
            "Epoch 58/400\n",
            "1/1 [==============================] - 1s 1s/step - loss: 0.0064 - accuracy: 1.0000 - val_loss: 0.0041 - val_accuracy: 1.0000\n",
            "Epoch 59/400\n",
            "1/1 [==============================] - 1s 1s/step - loss: 0.0041 - accuracy: 1.0000 - val_loss: 0.0041 - val_accuracy: 1.0000\n",
            "Epoch 60/400\n",
            "1/1 [==============================] - 1s 1s/step - loss: 0.0091 - accuracy: 1.0000 - val_loss: 0.0030 - val_accuracy: 1.0000\n",
            "Epoch 61/400\n",
            "1/1 [==============================] - 2s 2s/step - loss: 0.0042 - accuracy: 1.0000 - val_loss: 0.0024 - val_accuracy: 1.0000\n",
            "Epoch 62/400\n",
            "1/1 [==============================] - 2s 2s/step - loss: 0.0061 - accuracy: 1.0000 - val_loss: 0.0018 - val_accuracy: 1.0000\n",
            "Epoch 63/400\n",
            "1/1 [==============================] - 2s 2s/step - loss: 0.0077 - accuracy: 1.0000 - val_loss: 0.0015 - val_accuracy: 1.0000\n",
            "Epoch 64/400\n",
            "1/1 [==============================] - 1s 1s/step - loss: 0.0039 - accuracy: 1.0000 - val_loss: 0.0013 - val_accuracy: 1.0000\n",
            "Epoch 65/400\n",
            "1/1 [==============================] - 1s 1s/step - loss: 0.0019 - accuracy: 1.0000 - val_loss: 0.0011 - val_accuracy: 1.0000\n",
            "Epoch 66/400\n",
            "1/1 [==============================] - 1s 1s/step - loss: 0.0065 - accuracy: 1.0000 - val_loss: 0.0011 - val_accuracy: 1.0000\n",
            "Epoch 67/400\n",
            "1/1 [==============================] - 1s 1s/step - loss: 0.0031 - accuracy: 1.0000 - val_loss: 0.0012 - val_accuracy: 1.0000\n",
            "Epoch 68/400\n",
            "1/1 [==============================] - 2s 2s/step - loss: 0.0017 - accuracy: 1.0000 - val_loss: 0.0014 - val_accuracy: 1.0000\n",
            "Epoch 69/400\n",
            "1/1 [==============================] - 3s 3s/step - loss: 0.0036 - accuracy: 1.0000 - val_loss: 0.0015 - val_accuracy: 1.0000\n",
            "Epoch 70/400\n",
            "1/1 [==============================] - 1s 1s/step - loss: 0.0035 - accuracy: 1.0000 - val_loss: 0.0015 - val_accuracy: 1.0000\n",
            "Epoch 71/400\n",
            "1/1 [==============================] - 1s 1s/step - loss: 0.0024 - accuracy: 1.0000 - val_loss: 0.0013 - val_accuracy: 1.0000\n",
            "Epoch 72/400\n",
            "1/1 [==============================] - 1s 1s/step - loss: 0.0049 - accuracy: 1.0000 - val_loss: 0.0012 - val_accuracy: 1.0000\n",
            "Epoch 73/400\n",
            "1/1 [==============================] - 2s 2s/step - loss: 0.0055 - accuracy: 1.0000 - val_loss: 0.0010 - val_accuracy: 1.0000\n",
            "Epoch 74/400\n",
            "1/1 [==============================] - 1s 1s/step - loss: 0.0028 - accuracy: 1.0000 - val_loss: 9.7665e-04 - val_accuracy: 1.0000\n",
            "Epoch 75/400\n",
            "1/1 [==============================] - 2s 2s/step - loss: 0.0024 - accuracy: 1.0000 - val_loss: 9.6289e-04 - val_accuracy: 1.0000\n",
            "Epoch 76/400\n",
            "1/1 [==============================] - 3s 3s/step - loss: 0.0031 - accuracy: 1.0000 - val_loss: 8.9754e-04 - val_accuracy: 1.0000\n",
            "Epoch 77/400\n",
            "1/1 [==============================] - 1s 1s/step - loss: 0.0086 - accuracy: 1.0000 - val_loss: 8.9911e-04 - val_accuracy: 1.0000\n",
            "Epoch 78/400\n",
            "1/1 [==============================] - 1s 1s/step - loss: 0.0016 - accuracy: 1.0000 - val_loss: 0.0013 - val_accuracy: 1.0000\n",
            "Epoch 79/400\n",
            "1/1 [==============================] - 1s 1s/step - loss: 0.0042 - accuracy: 1.0000 - val_loss: 0.0019 - val_accuracy: 1.0000\n",
            "Epoch 80/400\n",
            "1/1 [==============================] - 1s 1s/step - loss: 0.0067 - accuracy: 1.0000 - val_loss: 0.0015 - val_accuracy: 1.0000\n",
            "Epoch 81/400\n",
            "1/1 [==============================] - 3s 3s/step - loss: 0.0050 - accuracy: 1.0000 - val_loss: 9.6473e-04 - val_accuracy: 1.0000\n",
            "Epoch 82/400\n",
            "1/1 [==============================] - 1s 1s/step - loss: 0.0034 - accuracy: 1.0000 - val_loss: 7.4880e-04 - val_accuracy: 1.0000\n",
            "Epoch 83/400\n",
            "1/1 [==============================] - 1s 1s/step - loss: 0.0025 - accuracy: 1.0000 - val_loss: 8.6592e-04 - val_accuracy: 1.0000\n",
            "Epoch 84/400\n",
            "1/1 [==============================] - 1s 1s/step - loss: 0.0267 - accuracy: 0.9714 - val_loss: 6.3334e-04 - val_accuracy: 1.0000\n",
            "Epoch 85/400\n",
            "1/1 [==============================] - 2s 2s/step - loss: 0.0023 - accuracy: 1.0000 - val_loss: 0.0036 - val_accuracy: 1.0000\n",
            "Epoch 86/400\n",
            "1/1 [==============================] - 3s 3s/step - loss: 0.0182 - accuracy: 1.0000 - val_loss: 0.0010 - val_accuracy: 1.0000\n",
            "Epoch 87/400\n",
            "1/1 [==============================] - 2s 2s/step - loss: 0.0030 - accuracy: 1.0000 - val_loss: 6.1396e-04 - val_accuracy: 1.0000\n",
            "Epoch 88/400\n",
            "1/1 [==============================] - 1s 1s/step - loss: 0.0015 - accuracy: 1.0000 - val_loss: 6.6248e-04 - val_accuracy: 1.0000\n",
            "Epoch 89/400\n",
            "1/1 [==============================] - 1s 1s/step - loss: 0.0041 - accuracy: 1.0000 - val_loss: 7.9363e-04 - val_accuracy: 1.0000\n",
            "Epoch 90/400\n",
            "1/1 [==============================] - 1s 1s/step - loss: 0.0038 - accuracy: 1.0000 - val_loss: 8.5108e-04 - val_accuracy: 1.0000\n",
            "Epoch 91/400\n",
            "1/1 [==============================] - 1s 1s/step - loss: 0.0045 - accuracy: 1.0000 - val_loss: 7.5445e-04 - val_accuracy: 1.0000\n",
            "Epoch 92/400\n",
            "1/1 [==============================] - 2s 2s/step - loss: 0.0027 - accuracy: 1.0000 - val_loss: 7.3745e-04 - val_accuracy: 1.0000\n",
            "Epoch 93/400\n",
            "1/1 [==============================] - 3s 3s/step - loss: 0.0161 - accuracy: 1.0000 - val_loss: 8.8311e-04 - val_accuracy: 1.0000\n",
            "Epoch 94/400\n",
            "1/1 [==============================] - 1s 1s/step - loss: 0.0020 - accuracy: 1.0000 - val_loss: 0.0031 - val_accuracy: 1.0000\n",
            "Epoch 95/400\n",
            "1/1 [==============================] - 1s 1s/step - loss: 0.0107 - accuracy: 1.0000 - val_loss: 0.0033 - val_accuracy: 1.0000\n",
            "Epoch 96/400\n",
            "1/1 [==============================] - 1s 1s/step - loss: 0.0048 - accuracy: 1.0000 - val_loss: 0.0021 - val_accuracy: 1.0000\n",
            "Epoch 97/400\n",
            "1/1 [==============================] - 1s 1s/step - loss: 0.0046 - accuracy: 1.0000 - val_loss: 8.7184e-04 - val_accuracy: 1.0000\n",
            "Epoch 98/400\n",
            "1/1 [==============================] - 2s 2s/step - loss: 0.0012 - accuracy: 1.0000 - val_loss: 4.2199e-04 - val_accuracy: 1.0000\n",
            "Epoch 99/400\n",
            "1/1 [==============================] - 3s 3s/step - loss: 0.0025 - accuracy: 1.0000 - val_loss: 3.0444e-04 - val_accuracy: 1.0000\n",
            "Epoch 100/400\n",
            "1/1 [==============================] - 1s 1s/step - loss: 0.0024 - accuracy: 1.0000 - val_loss: 3.6399e-04 - val_accuracy: 1.0000\n",
            "Epoch 101/400\n",
            "1/1 [==============================] - 1s 1s/step - loss: 0.0012 - accuracy: 1.0000 - val_loss: 5.2579e-04 - val_accuracy: 1.0000\n",
            "Epoch 102/400\n",
            "1/1 [==============================] - 1s 1s/step - loss: 0.0039 - accuracy: 1.0000 - val_loss: 5.6234e-04 - val_accuracy: 1.0000\n",
            "Epoch 103/400\n",
            "1/1 [==============================] - 1s 1s/step - loss: 0.0017 - accuracy: 1.0000 - val_loss: 5.4225e-04 - val_accuracy: 1.0000\n",
            "Epoch 104/400\n",
            "1/1 [==============================] - 1s 1s/step - loss: 0.0072 - accuracy: 1.0000 - val_loss: 3.3838e-04 - val_accuracy: 1.0000\n",
            "Epoch 105/400\n",
            "1/1 [==============================] - 2s 2s/step - loss: 0.0032 - accuracy: 1.0000 - val_loss: 2.3413e-04 - val_accuracy: 1.0000\n",
            "Epoch 106/400\n",
            "1/1 [==============================] - 2s 2s/step - loss: 0.0012 - accuracy: 1.0000 - val_loss: 2.1165e-04 - val_accuracy: 1.0000\n",
            "Epoch 107/400\n",
            "1/1 [==============================] - 1s 1s/step - loss: 0.0021 - accuracy: 1.0000 - val_loss: 2.7118e-04 - val_accuracy: 1.0000\n",
            "Epoch 108/400\n",
            "1/1 [==============================] - 2s 2s/step - loss: 0.0031 - accuracy: 1.0000 - val_loss: 4.1747e-04 - val_accuracy: 1.0000\n",
            "Epoch 109/400\n",
            "1/1 [==============================] - 1s 1s/step - loss: 0.0033 - accuracy: 1.0000 - val_loss: 5.6397e-04 - val_accuracy: 1.0000\n",
            "Epoch 110/400\n",
            "1/1 [==============================] - 1s 1s/step - loss: 9.3603e-04 - accuracy: 1.0000 - val_loss: 7.2035e-04 - val_accuracy: 1.0000\n",
            "Epoch 111/400\n",
            "1/1 [==============================] - 1s 1s/step - loss: 0.0017 - accuracy: 1.0000 - val_loss: 8.3293e-04 - val_accuracy: 1.0000\n",
            "Epoch 112/400\n",
            "1/1 [==============================] - 1s 1s/step - loss: 0.0017 - accuracy: 1.0000 - val_loss: 8.5519e-04 - val_accuracy: 1.0000\n",
            "Epoch 113/400\n",
            "1/1 [==============================] - 2s 2s/step - loss: 0.0015 - accuracy: 1.0000 - val_loss: 8.2060e-04 - val_accuracy: 1.0000\n",
            "Epoch 114/400\n",
            "1/1 [==============================] - 3s 3s/step - loss: 0.0016 - accuracy: 1.0000 - val_loss: 7.5241e-04 - val_accuracy: 1.0000\n",
            "Epoch 115/400\n",
            "1/1 [==============================] - 1s 1s/step - loss: 0.0020 - accuracy: 1.0000 - val_loss: 6.4312e-04 - val_accuracy: 1.0000\n",
            "Epoch 116/400\n",
            "1/1 [==============================] - 2s 2s/step - loss: 0.0011 - accuracy: 1.0000 - val_loss: 5.3310e-04 - val_accuracy: 1.0000\n",
            "Epoch 117/400\n",
            "1/1 [==============================] - 1s 1s/step - loss: 7.8379e-04 - accuracy: 1.0000 - val_loss: 4.4335e-04 - val_accuracy: 1.0000\n",
            "Epoch 118/400\n",
            "1/1 [==============================] - 1s 1s/step - loss: 6.2516e-04 - accuracy: 1.0000 - val_loss: 3.7505e-04 - val_accuracy: 1.0000\n",
            "Epoch 119/400\n",
            "1/1 [==============================] - 2s 2s/step - loss: 7.8689e-04 - accuracy: 1.0000 - val_loss: 3.2342e-04 - val_accuracy: 1.0000\n",
            "Epoch 120/400\n",
            "1/1 [==============================] - 2s 2s/step - loss: 7.3546e-04 - accuracy: 1.0000 - val_loss: 2.8264e-04 - val_accuracy: 1.0000\n",
            "Epoch 121/400\n",
            "1/1 [==============================] - 1s 1s/step - loss: 6.3465e-04 - accuracy: 1.0000 - val_loss: 2.5318e-04 - val_accuracy: 1.0000\n",
            "Epoch 122/400\n",
            "1/1 [==============================] - 1s 1s/step - loss: 0.0020 - accuracy: 1.0000 - val_loss: 2.2183e-04 - val_accuracy: 1.0000\n",
            "Epoch 123/400\n",
            "1/1 [==============================] - 1s 1s/step - loss: 0.0014 - accuracy: 1.0000 - val_loss: 1.9743e-04 - val_accuracy: 1.0000\n",
            "Epoch 124/400\n",
            "1/1 [==============================] - 1s 1s/step - loss: 7.9346e-04 - accuracy: 1.0000 - val_loss: 1.8129e-04 - val_accuracy: 1.0000\n",
            "Epoch 125/400\n",
            "1/1 [==============================] - 1s 1s/step - loss: 6.3822e-04 - accuracy: 1.0000 - val_loss: 1.6921e-04 - val_accuracy: 1.0000\n",
            "Epoch 126/400\n",
            "1/1 [==============================] - 2s 2s/step - loss: 6.6679e-04 - accuracy: 1.0000 - val_loss: 1.6479e-04 - val_accuracy: 1.0000\n",
            "Epoch 127/400\n",
            "1/1 [==============================] - 2s 2s/step - loss: 9.5713e-04 - accuracy: 1.0000 - val_loss: 1.6165e-04 - val_accuracy: 1.0000\n",
            "Epoch 128/400\n",
            "1/1 [==============================] - 1s 1s/step - loss: 6.3179e-04 - accuracy: 1.0000 - val_loss: 1.6132e-04 - val_accuracy: 1.0000\n",
            "Epoch 129/400\n",
            "1/1 [==============================] - 1s 1s/step - loss: 9.2798e-04 - accuracy: 1.0000 - val_loss: 1.6381e-04 - val_accuracy: 1.0000\n",
            "Epoch 130/400\n",
            "1/1 [==============================] - 1s 1s/step - loss: 5.3000e-04 - accuracy: 1.0000 - val_loss: 1.6802e-04 - val_accuracy: 1.0000\n",
            "Epoch 131/400\n",
            "1/1 [==============================] - 1s 1s/step - loss: 8.3047e-04 - accuracy: 1.0000 - val_loss: 1.7177e-04 - val_accuracy: 1.0000\n",
            "Epoch 132/400\n",
            "1/1 [==============================] - 1s 1s/step - loss: 0.0011 - accuracy: 1.0000 - val_loss: 1.6655e-04 - val_accuracy: 1.0000\n",
            "Epoch 133/400\n",
            "1/1 [==============================] - 2s 2s/step - loss: 6.0698e-04 - accuracy: 1.0000 - val_loss: 1.6113e-04 - val_accuracy: 1.0000\n",
            "Epoch 134/400\n",
            "1/1 [==============================] - 3s 3s/step - loss: 8.2322e-04 - accuracy: 1.0000 - val_loss: 1.5765e-04 - val_accuracy: 1.0000\n",
            "Epoch 135/400\n",
            "1/1 [==============================] - 1s 1s/step - loss: 7.7834e-04 - accuracy: 1.0000 - val_loss: 1.5426e-04 - val_accuracy: 1.0000\n",
            "Epoch 136/400\n",
            "1/1 [==============================] - 1s 1s/step - loss: 0.0014 - accuracy: 1.0000 - val_loss: 1.4656e-04 - val_accuracy: 1.0000\n",
            "Epoch 137/400\n",
            "1/1 [==============================] - 1s 1s/step - loss: 3.6846e-04 - accuracy: 1.0000 - val_loss: 1.3980e-04 - val_accuracy: 1.0000\n",
            "Epoch 138/400\n",
            "1/1 [==============================] - 2s 2s/step - loss: 4.9668e-04 - accuracy: 1.0000 - val_loss: 1.3509e-04 - val_accuracy: 1.0000\n",
            "Epoch 139/400\n",
            "1/1 [==============================] - 1s 1s/step - loss: 0.0013 - accuracy: 1.0000 - val_loss: 1.3211e-04 - val_accuracy: 1.0000\n",
            "Epoch 140/400\n",
            "1/1 [==============================] - 1s 1s/step - loss: 5.1445e-04 - accuracy: 1.0000 - val_loss: 1.3087e-04 - val_accuracy: 1.0000\n",
            "Epoch 141/400\n",
            "1/1 [==============================] - 1s 1s/step - loss: 6.3489e-04 - accuracy: 1.0000 - val_loss: 1.3039e-04 - val_accuracy: 1.0000\n",
            "Epoch 142/400\n",
            "1/1 [==============================] - 1s 1s/step - loss: 4.7063e-04 - accuracy: 1.0000 - val_loss: 1.3112e-04 - val_accuracy: 1.0000\n",
            "Epoch 143/400\n",
            "1/1 [==============================] - 2s 2s/step - loss: 7.4573e-04 - accuracy: 1.0000 - val_loss: 1.3289e-04 - val_accuracy: 1.0000\n",
            "Epoch 144/400\n",
            "1/1 [==============================] - 2s 2s/step - loss: 0.0014 - accuracy: 1.0000 - val_loss: 1.3426e-04 - val_accuracy: 1.0000\n",
            "Epoch 145/400\n",
            "1/1 [==============================] - 1s 1s/step - loss: 8.5015e-04 - accuracy: 1.0000 - val_loss: 1.3314e-04 - val_accuracy: 1.0000\n",
            "Epoch 146/400\n",
            "1/1 [==============================] - 1s 1s/step - loss: 6.3291e-04 - accuracy: 1.0000 - val_loss: 1.3191e-04 - val_accuracy: 1.0000\n",
            "Epoch 147/400\n",
            "1/1 [==============================] - 1s 1s/step - loss: 4.9695e-04 - accuracy: 1.0000 - val_loss: 1.3139e-04 - val_accuracy: 1.0000\n",
            "Epoch 148/400\n",
            "1/1 [==============================] - 1s 1s/step - loss: 8.2270e-04 - accuracy: 1.0000 - val_loss: 1.2948e-04 - val_accuracy: 1.0000\n",
            "Epoch 149/400\n",
            "1/1 [==============================] - 1s 1s/step - loss: 0.0010 - accuracy: 1.0000 - val_loss: 1.2008e-04 - val_accuracy: 1.0000\n",
            "Epoch 150/400\n",
            "1/1 [==============================] - 3s 3s/step - loss: 7.3661e-04 - accuracy: 1.0000 - val_loss: 1.1328e-04 - val_accuracy: 1.0000\n",
            "Epoch 151/400\n",
            "1/1 [==============================] - 1s 1s/step - loss: 4.2370e-04 - accuracy: 1.0000 - val_loss: 1.0757e-04 - val_accuracy: 1.0000\n",
            "Epoch 152/400\n",
            "1/1 [==============================] - 1s 1s/step - loss: 4.5380e-04 - accuracy: 1.0000 - val_loss: 1.0380e-04 - val_accuracy: 1.0000\n",
            "Epoch 153/400\n",
            "1/1 [==============================] - 1s 1s/step - loss: 7.0614e-04 - accuracy: 1.0000 - val_loss: 1.0087e-04 - val_accuracy: 1.0000\n",
            "Epoch 154/400\n",
            "1/1 [==============================] - 1s 1s/step - loss: 3.5709e-04 - accuracy: 1.0000 - val_loss: 9.7644e-05 - val_accuracy: 1.0000\n",
            "Epoch 155/400\n",
            "1/1 [==============================] - 2s 2s/step - loss: 3.2095e-04 - accuracy: 1.0000 - val_loss: 9.4731e-05 - val_accuracy: 1.0000\n",
            "Epoch 156/400\n",
            "1/1 [==============================] - 2s 2s/step - loss: 5.4689e-04 - accuracy: 1.0000 - val_loss: 9.1890e-05 - val_accuracy: 1.0000\n",
            "Epoch 157/400\n",
            "1/1 [==============================] - 1s 1s/step - loss: 6.9976e-04 - accuracy: 1.0000 - val_loss: 9.1288e-05 - val_accuracy: 1.0000\n",
            "Epoch 158/400\n",
            "1/1 [==============================] - 1s 1s/step - loss: 4.3038e-04 - accuracy: 1.0000 - val_loss: 9.0784e-05 - val_accuracy: 1.0000\n",
            "Epoch 159/400\n",
            "1/1 [==============================] - 1s 1s/step - loss: 4.0738e-04 - accuracy: 1.0000 - val_loss: 8.9796e-05 - val_accuracy: 1.0000\n",
            "Epoch 160/400\n",
            "1/1 [==============================] - 1s 1s/step - loss: 3.9207e-04 - accuracy: 1.0000 - val_loss: 8.8288e-05 - val_accuracy: 1.0000\n",
            "Epoch 161/400\n",
            "1/1 [==============================] - 2s 2s/step - loss: 4.8810e-04 - accuracy: 1.0000 - val_loss: 8.7798e-05 - val_accuracy: 1.0000\n",
            "Epoch 162/400\n",
            "1/1 [==============================] - 2s 2s/step - loss: 5.1170e-04 - accuracy: 1.0000 - val_loss: 8.7284e-05 - val_accuracy: 1.0000\n",
            "Epoch 163/400\n",
            "1/1 [==============================] - 2s 2s/step - loss: 3.0989e-04 - accuracy: 1.0000 - val_loss: 8.6409e-05 - val_accuracy: 1.0000\n",
            "Epoch 164/400\n",
            "1/1 [==============================] - 1s 1s/step - loss: 7.2865e-04 - accuracy: 1.0000 - val_loss: 8.5656e-05 - val_accuracy: 1.0000\n",
            "Epoch 165/400\n",
            "1/1 [==============================] - 1s 1s/step - loss: 2.8877e-04 - accuracy: 1.0000 - val_loss: 8.4781e-05 - val_accuracy: 1.0000\n",
            "Epoch 166/400\n",
            "1/1 [==============================] - 1s 1s/step - loss: 9.2444e-04 - accuracy: 1.0000 - val_loss: 8.8470e-05 - val_accuracy: 1.0000\n",
            "Epoch 167/400\n",
            "1/1 [==============================] - 1s 1s/step - loss: 4.3020e-04 - accuracy: 1.0000 - val_loss: 8.9790e-05 - val_accuracy: 1.0000\n",
            "Epoch 168/400\n",
            "1/1 [==============================] - 1s 1s/step - loss: 6.0839e-04 - accuracy: 1.0000 - val_loss: 9.1063e-05 - val_accuracy: 1.0000\n",
            "Epoch 169/400\n",
            "1/1 [==============================] - 3s 3s/step - loss: 3.5942e-04 - accuracy: 1.0000 - val_loss: 9.1924e-05 - val_accuracy: 1.0000\n",
            "Epoch 170/400\n",
            "1/1 [==============================] - 1s 1s/step - loss: 0.0011 - accuracy: 1.0000 - val_loss: 9.3315e-05 - val_accuracy: 1.0000\n",
            "Epoch 171/400\n",
            "1/1 [==============================] - 2s 2s/step - loss: 0.0011 - accuracy: 1.0000 - val_loss: 8.7659e-05 - val_accuracy: 1.0000\n",
            "Epoch 172/400\n",
            "1/1 [==============================] - 2s 2s/step - loss: 3.8912e-04 - accuracy: 1.0000 - val_loss: 8.3860e-05 - val_accuracy: 1.0000\n",
            "Epoch 173/400\n",
            "1/1 [==============================] - 1s 1s/step - loss: 5.2835e-04 - accuracy: 1.0000 - val_loss: 8.2445e-05 - val_accuracy: 1.0000\n",
            "Epoch 174/400\n",
            "1/1 [==============================] - 2s 2s/step - loss: 9.3237e-04 - accuracy: 1.0000 - val_loss: 8.2278e-05 - val_accuracy: 1.0000\n",
            "Epoch 175/400\n",
            "1/1 [==============================] - 3s 3s/step - loss: 5.2590e-04 - accuracy: 1.0000 - val_loss: 8.4145e-05 - val_accuracy: 1.0000\n",
            "Epoch 176/400\n",
            "1/1 [==============================] - 1s 1s/step - loss: 3.3024e-04 - accuracy: 1.0000 - val_loss: 8.5948e-05 - val_accuracy: 1.0000\n",
            "Epoch 177/400\n",
            "1/1 [==============================] - 1s 1s/step - loss: 4.8309e-04 - accuracy: 1.0000 - val_loss: 9.0548e-05 - val_accuracy: 1.0000\n",
            "Epoch 178/400\n",
            "1/1 [==============================] - 1s 1s/step - loss: 2.9675e-04 - accuracy: 1.0000 - val_loss: 9.5290e-05 - val_accuracy: 1.0000\n",
            "Epoch 179/400\n",
            "1/1 [==============================] - 1s 1s/step - loss: 3.4628e-04 - accuracy: 1.0000 - val_loss: 9.9178e-05 - val_accuracy: 1.0000\n",
            "Epoch 180/400\n",
            "1/1 [==============================] - 2s 2s/step - loss: 6.4556e-04 - accuracy: 1.0000 - val_loss: 1.0442e-04 - val_accuracy: 1.0000\n",
            "Epoch 181/400\n",
            "1/1 [==============================] - 3s 3s/step - loss: 2.5907e-04 - accuracy: 1.0000 - val_loss: 1.0903e-04 - val_accuracy: 1.0000\n",
            "Epoch 182/400\n",
            "1/1 [==============================] - 2s 2s/step - loss: 4.7375e-04 - accuracy: 1.0000 - val_loss: 1.1391e-04 - val_accuracy: 1.0000\n",
            "Epoch 183/400\n",
            "1/1 [==============================] - 2s 2s/step - loss: 3.3275e-04 - accuracy: 1.0000 - val_loss: 1.1646e-04 - val_accuracy: 1.0000\n",
            "Epoch 184/400\n",
            "1/1 [==============================] - 1s 1s/step - loss: 2.9981e-04 - accuracy: 1.0000 - val_loss: 1.1746e-04 - val_accuracy: 1.0000\n",
            "Epoch 185/400\n",
            "1/1 [==============================] - 2s 2s/step - loss: 3.5405e-04 - accuracy: 1.0000 - val_loss: 1.1749e-04 - val_accuracy: 1.0000\n",
            "Epoch 186/400\n",
            "1/1 [==============================] - 3s 3s/step - loss: 3.7808e-04 - accuracy: 1.0000 - val_loss: 1.1527e-04 - val_accuracy: 1.0000\n",
            "Epoch 187/400\n",
            "1/1 [==============================] - 2s 2s/step - loss: 2.9456e-04 - accuracy: 1.0000 - val_loss: 1.1222e-04 - val_accuracy: 1.0000\n",
            "Epoch 188/400\n",
            "1/1 [==============================] - 1s 1s/step - loss: 2.4565e-04 - accuracy: 1.0000 - val_loss: 1.0830e-04 - val_accuracy: 1.0000\n",
            "Epoch 189/400\n",
            "1/1 [==============================] - 1s 1s/step - loss: 3.0080e-04 - accuracy: 1.0000 - val_loss: 1.0354e-04 - val_accuracy: 1.0000\n",
            "Epoch 190/400\n",
            "1/1 [==============================] - 1s 1s/step - loss: 3.5870e-04 - accuracy: 1.0000 - val_loss: 1.0039e-04 - val_accuracy: 1.0000\n",
            "Epoch 191/400\n",
            "1/1 [==============================] - 1s 1s/step - loss: 2.5977e-04 - accuracy: 1.0000 - val_loss: 9.6436e-05 - val_accuracy: 1.0000\n",
            "Epoch 192/400\n",
            "1/1 [==============================] - 1s 1s/step - loss: 9.5855e-04 - accuracy: 1.0000 - val_loss: 9.0261e-05 - val_accuracy: 1.0000\n",
            "Epoch 193/400\n",
            "1/1 [==============================] - 2s 2s/step - loss: 4.1395e-04 - accuracy: 1.0000 - val_loss: 8.4688e-05 - val_accuracy: 1.0000\n",
            "Epoch 194/400\n",
            "1/1 [==============================] - 2s 2s/step - loss: 2.4243e-04 - accuracy: 1.0000 - val_loss: 8.0438e-05 - val_accuracy: 1.0000\n",
            "Epoch 195/400\n",
            "1/1 [==============================] - 2s 2s/step - loss: 6.3751e-04 - accuracy: 1.0000 - val_loss: 7.4527e-05 - val_accuracy: 1.0000\n",
            "Epoch 196/400\n",
            "1/1 [==============================] - 1s 1s/step - loss: 1.7538e-04 - accuracy: 1.0000 - val_loss: 7.0086e-05 - val_accuracy: 1.0000\n",
            "Epoch 197/400\n",
            "1/1 [==============================] - 1s 1s/step - loss: 2.0572e-04 - accuracy: 1.0000 - val_loss: 6.6757e-05 - val_accuracy: 1.0000\n",
            "Epoch 198/400\n",
            "1/1 [==============================] - 2s 2s/step - loss: 7.6410e-04 - accuracy: 1.0000 - val_loss: 6.4004e-05 - val_accuracy: 1.0000\n",
            "Epoch 199/400\n",
            "1/1 [==============================] - 1s 1s/step - loss: 3.6943e-04 - accuracy: 1.0000 - val_loss: 6.1703e-05 - val_accuracy: 1.0000\n",
            "Epoch 200/400\n",
            "1/1 [==============================] - 1s 1s/step - loss: 4.1875e-04 - accuracy: 1.0000 - val_loss: 5.9565e-05 - val_accuracy: 1.0000\n",
            "Epoch 201/400\n",
            "1/1 [==============================] - 2s 2s/step - loss: 2.5198e-04 - accuracy: 1.0000 - val_loss: 5.8412e-05 - val_accuracy: 1.0000\n",
            "Epoch 202/400\n",
            "1/1 [==============================] - 2s 2s/step - loss: 2.5862e-04 - accuracy: 1.0000 - val_loss: 5.7557e-05 - val_accuracy: 1.0000\n",
            "Epoch 203/400\n",
            "1/1 [==============================] - 2s 2s/step - loss: 3.2001e-04 - accuracy: 1.0000 - val_loss: 5.6505e-05 - val_accuracy: 1.0000\n",
            "Epoch 204/400\n",
            "1/1 [==============================] - 1s 1s/step - loss: 2.1794e-04 - accuracy: 1.0000 - val_loss: 5.5913e-05 - val_accuracy: 1.0000\n",
            "Epoch 205/400\n",
            "1/1 [==============================] - 1s 1s/step - loss: 3.3108e-04 - accuracy: 1.0000 - val_loss: 5.6001e-05 - val_accuracy: 1.0000\n",
            "Epoch 206/400\n",
            "1/1 [==============================] - 1s 1s/step - loss: 9.0543e-04 - accuracy: 1.0000 - val_loss: 5.9428e-05 - val_accuracy: 1.0000\n",
            "Epoch 207/400\n",
            "1/1 [==============================] - 2s 2s/step - loss: 2.5723e-04 - accuracy: 1.0000 - val_loss: 6.3281e-05 - val_accuracy: 1.0000\n",
            "Epoch 208/400\n",
            "1/1 [==============================] - 3s 3s/step - loss: 2.6827e-04 - accuracy: 1.0000 - val_loss: 6.6633e-05 - val_accuracy: 1.0000\n",
            "Epoch 209/400\n",
            "1/1 [==============================] - 1s 1s/step - loss: 1.8139e-04 - accuracy: 1.0000 - val_loss: 7.0278e-05 - val_accuracy: 1.0000\n",
            "Epoch 210/400\n",
            "1/1 [==============================] - 1s 1s/step - loss: 2.4398e-04 - accuracy: 1.0000 - val_loss: 7.4338e-05 - val_accuracy: 1.0000\n",
            "Epoch 211/400\n",
            "1/1 [==============================] - 1s 1s/step - loss: 2.5466e-04 - accuracy: 1.0000 - val_loss: 7.6590e-05 - val_accuracy: 1.0000\n",
            "Epoch 212/400\n",
            "1/1 [==============================] - 1s 1s/step - loss: 4.3042e-04 - accuracy: 1.0000 - val_loss: 7.9078e-05 - val_accuracy: 1.0000\n",
            "Epoch 213/400\n",
            "1/1 [==============================] - 2s 2s/step - loss: 6.1361e-04 - accuracy: 1.0000 - val_loss: 7.9602e-05 - val_accuracy: 1.0000\n",
            "Epoch 214/400\n",
            "1/1 [==============================] - 3s 3s/step - loss: 3.6852e-04 - accuracy: 1.0000 - val_loss: 8.0116e-05 - val_accuracy: 1.0000\n",
            "Epoch 215/400\n",
            "1/1 [==============================] - 1s 1s/step - loss: 1.4724e-04 - accuracy: 1.0000 - val_loss: 8.0372e-05 - val_accuracy: 1.0000\n",
            "Epoch 216/400\n",
            "1/1 [==============================] - 1s 1s/step - loss: 1.5951e-04 - accuracy: 1.0000 - val_loss: 8.0423e-05 - val_accuracy: 1.0000\n",
            "Epoch 217/400\n",
            "1/1 [==============================] - 1s 1s/step - loss: 2.1799e-04 - accuracy: 1.0000 - val_loss: 7.9583e-05 - val_accuracy: 1.0000\n",
            "Epoch 218/400\n",
            "1/1 [==============================] - 1s 1s/step - loss: 7.9827e-04 - accuracy: 1.0000 - val_loss: 7.7902e-05 - val_accuracy: 1.0000\n",
            "Epoch 219/400\n",
            "1/1 [==============================] - 1s 1s/step - loss: 2.0620e-04 - accuracy: 1.0000 - val_loss: 7.6167e-05 - val_accuracy: 1.0000\n",
            "Epoch 220/400\n",
            "1/1 [==============================] - 1s 1s/step - loss: 2.4064e-04 - accuracy: 1.0000 - val_loss: 7.4670e-05 - val_accuracy: 1.0000\n",
            "Epoch 221/400\n",
            "1/1 [==============================] - 3s 3s/step - loss: 1.7386e-04 - accuracy: 1.0000 - val_loss: 7.2727e-05 - val_accuracy: 1.0000\n",
            "Epoch 222/400\n",
            "1/1 [==============================] - 1s 1s/step - loss: 3.3641e-04 - accuracy: 1.0000 - val_loss: 7.1045e-05 - val_accuracy: 1.0000\n",
            "Epoch 223/400\n",
            "1/1 [==============================] - 1s 1s/step - loss: 5.5551e-04 - accuracy: 1.0000 - val_loss: 6.3969e-05 - val_accuracy: 1.0000\n",
            "Epoch 224/400\n",
            "1/1 [==============================] - 1s 1s/step - loss: 1.6464e-04 - accuracy: 1.0000 - val_loss: 5.8216e-05 - val_accuracy: 1.0000\n",
            "Epoch 225/400\n",
            "1/1 [==============================] - 2s 2s/step - loss: 1.4574e-04 - accuracy: 1.0000 - val_loss: 5.3617e-05 - val_accuracy: 1.0000\n",
            "Epoch 226/400\n",
            "1/1 [==============================] - 2s 2s/step - loss: 3.1847e-04 - accuracy: 1.0000 - val_loss: 4.9521e-05 - val_accuracy: 1.0000\n",
            "Epoch 227/400\n",
            "1/1 [==============================] - 1s 1s/step - loss: 1.8875e-04 - accuracy: 1.0000 - val_loss: 4.6375e-05 - val_accuracy: 1.0000\n",
            "Epoch 228/400\n",
            "1/1 [==============================] - 1s 1s/step - loss: 2.2070e-04 - accuracy: 1.0000 - val_loss: 4.4258e-05 - val_accuracy: 1.0000\n",
            "Epoch 229/400\n",
            "1/1 [==============================] - 1s 1s/step - loss: 2.8522e-04 - accuracy: 1.0000 - val_loss: 4.2692e-05 - val_accuracy: 1.0000\n",
            "Epoch 230/400\n",
            "1/1 [==============================] - 1s 1s/step - loss: 1.7282e-04 - accuracy: 1.0000 - val_loss: 4.1401e-05 - val_accuracy: 1.0000\n",
            "Epoch 231/400\n",
            "1/1 [==============================] - 1s 1s/step - loss: 2.2033e-04 - accuracy: 1.0000 - val_loss: 4.0394e-05 - val_accuracy: 1.0000\n",
            "Epoch 232/400\n",
            "1/1 [==============================] - 2s 2s/step - loss: 2.5251e-04 - accuracy: 1.0000 - val_loss: 3.9978e-05 - val_accuracy: 1.0000\n",
            "Epoch 233/400\n",
            "1/1 [==============================] - 3s 3s/step - loss: 2.7652e-04 - accuracy: 1.0000 - val_loss: 3.9362e-05 - val_accuracy: 1.0000\n",
            "Epoch 234/400\n",
            "1/1 [==============================] - 2s 2s/step - loss: 1.9544e-04 - accuracy: 1.0000 - val_loss: 3.8810e-05 - val_accuracy: 1.0000\n",
            "Epoch 235/400\n",
            "1/1 [==============================] - 1s 1s/step - loss: 2.4421e-04 - accuracy: 1.0000 - val_loss: 3.8504e-05 - val_accuracy: 1.0000\n",
            "Epoch 236/400\n",
            "1/1 [==============================] - 1s 1s/step - loss: 1.4531e-04 - accuracy: 1.0000 - val_loss: 3.8313e-05 - val_accuracy: 1.0000\n",
            "Epoch 237/400\n",
            "1/1 [==============================] - 1s 1s/step - loss: 1.4233e-04 - accuracy: 1.0000 - val_loss: 3.8272e-05 - val_accuracy: 1.0000\n",
            "Epoch 238/400\n",
            "1/1 [==============================] - 2s 2s/step - loss: 1.8513e-04 - accuracy: 1.0000 - val_loss: 3.8459e-05 - val_accuracy: 1.0000\n",
            "Epoch 239/400\n",
            "1/1 [==============================] - 2s 2s/step - loss: 2.7775e-04 - accuracy: 1.0000 - val_loss: 3.8922e-05 - val_accuracy: 1.0000\n",
            "Epoch 240/400\n",
            "1/1 [==============================] - 1s 1s/step - loss: 2.1635e-04 - accuracy: 1.0000 - val_loss: 3.9457e-05 - val_accuracy: 1.0000\n",
            "Epoch 241/400\n",
            "1/1 [==============================] - 1s 1s/step - loss: 1.9157e-04 - accuracy: 1.0000 - val_loss: 4.0141e-05 - val_accuracy: 1.0000\n",
            "Epoch 242/400\n",
            "1/1 [==============================] - 1s 1s/step - loss: 1.5204e-04 - accuracy: 1.0000 - val_loss: 4.1077e-05 - val_accuracy: 1.0000\n",
            "Epoch 243/400\n",
            "1/1 [==============================] - 1s 1s/step - loss: 1.8223e-04 - accuracy: 1.0000 - val_loss: 4.2340e-05 - val_accuracy: 1.0000\n",
            "Epoch 244/400\n",
            "1/1 [==============================] - 2s 2s/step - loss: 5.7011e-04 - accuracy: 1.0000 - val_loss: 4.4380e-05 - val_accuracy: 1.0000\n",
            "Epoch 245/400\n",
            "1/1 [==============================] - 2s 2s/step - loss: 2.9355e-04 - accuracy: 1.0000 - val_loss: 4.6684e-05 - val_accuracy: 1.0000\n",
            "Epoch 246/400\n",
            "1/1 [==============================] - 2s 2s/step - loss: 3.1065e-04 - accuracy: 1.0000 - val_loss: 4.9159e-05 - val_accuracy: 1.0000\n",
            "Epoch 247/400\n",
            "1/1 [==============================] - 1s 1s/step - loss: 1.9689e-04 - accuracy: 1.0000 - val_loss: 5.1852e-05 - val_accuracy: 1.0000\n",
            "Epoch 248/400\n",
            "1/1 [==============================] - 1s 1s/step - loss: 2.3010e-04 - accuracy: 1.0000 - val_loss: 5.4663e-05 - val_accuracy: 1.0000\n",
            "Epoch 249/400\n",
            "1/1 [==============================] - 1s 1s/step - loss: 1.5665e-04 - accuracy: 1.0000 - val_loss: 5.6906e-05 - val_accuracy: 1.0000\n",
            "Epoch 250/400\n",
            "1/1 [==============================] - 1s 1s/step - loss: 1.3677e-04 - accuracy: 1.0000 - val_loss: 5.8990e-05 - val_accuracy: 1.0000\n",
            "Epoch 251/400\n",
            "1/1 [==============================] - 2s 2s/step - loss: 1.6693e-04 - accuracy: 1.0000 - val_loss: 6.0889e-05 - val_accuracy: 1.0000\n",
            "Epoch 252/400\n",
            "1/1 [==============================] - 2s 2s/step - loss: 1.6720e-04 - accuracy: 1.0000 - val_loss: 6.2301e-05 - val_accuracy: 1.0000\n",
            "Epoch 253/400\n",
            "1/1 [==============================] - 1s 1s/step - loss: 1.4184e-04 - accuracy: 1.0000 - val_loss: 6.3050e-05 - val_accuracy: 1.0000\n",
            "Epoch 254/400\n",
            "1/1 [==============================] - 2s 2s/step - loss: 1.9231e-04 - accuracy: 1.0000 - val_loss: 6.3210e-05 - val_accuracy: 1.0000\n",
            "Epoch 255/400\n",
            "1/1 [==============================] - 2s 2s/step - loss: 1.6365e-04 - accuracy: 1.0000 - val_loss: 6.2962e-05 - val_accuracy: 1.0000\n",
            "Epoch 256/400\n",
            "1/1 [==============================] - 1s 1s/step - loss: 2.3474e-04 - accuracy: 1.0000 - val_loss: 6.3319e-05 - val_accuracy: 1.0000\n",
            "Epoch 257/400\n",
            "1/1 [==============================] - 1s 1s/step - loss: 1.6453e-04 - accuracy: 1.0000 - val_loss: 6.2921e-05 - val_accuracy: 1.0000\n",
            "Epoch 258/400\n",
            "1/1 [==============================] - 2s 2s/step - loss: 1.6933e-04 - accuracy: 1.0000 - val_loss: 6.2400e-05 - val_accuracy: 1.0000\n",
            "Epoch 259/400\n",
            "1/1 [==============================] - 2s 2s/step - loss: 1.6615e-04 - accuracy: 1.0000 - val_loss: 6.1818e-05 - val_accuracy: 1.0000\n",
            "Epoch 260/400\n",
            "1/1 [==============================] - 2s 2s/step - loss: 4.3994e-04 - accuracy: 1.0000 - val_loss: 5.9878e-05 - val_accuracy: 1.0000\n",
            "Epoch 261/400\n",
            "1/1 [==============================] - 1s 1s/step - loss: 2.7109e-04 - accuracy: 1.0000 - val_loss: 5.7948e-05 - val_accuracy: 1.0000\n",
            "Epoch 262/400\n",
            "1/1 [==============================] - 1s 1s/step - loss: 2.9207e-04 - accuracy: 1.0000 - val_loss: 5.5630e-05 - val_accuracy: 1.0000\n",
            "Epoch 263/400\n",
            "1/1 [==============================] - 1s 1s/step - loss: 2.1766e-04 - accuracy: 1.0000 - val_loss: 5.3261e-05 - val_accuracy: 1.0000\n",
            "Epoch 264/400\n",
            "1/1 [==============================] - 1s 1s/step - loss: 6.3692e-04 - accuracy: 1.0000 - val_loss: 5.2117e-05 - val_accuracy: 1.0000\n",
            "Epoch 265/400\n",
            "1/1 [==============================] - 2s 2s/step - loss: 2.6753e-04 - accuracy: 1.0000 - val_loss: 5.1463e-05 - val_accuracy: 1.0000\n",
            "Epoch 266/400\n",
            "1/1 [==============================] - 2s 2s/step - loss: 1.3340e-04 - accuracy: 1.0000 - val_loss: 5.0599e-05 - val_accuracy: 1.0000\n",
            "Epoch 267/400\n",
            "1/1 [==============================] - 1s 1s/step - loss: 1.0908e-04 - accuracy: 1.0000 - val_loss: 4.9713e-05 - val_accuracy: 1.0000\n",
            "Epoch 268/400\n",
            "1/1 [==============================] - 1s 1s/step - loss: 1.6558e-04 - accuracy: 1.0000 - val_loss: 4.8570e-05 - val_accuracy: 1.0000\n",
            "Epoch 269/400\n",
            "1/1 [==============================] - 1s 1s/step - loss: 7.4551e-04 - accuracy: 1.0000 - val_loss: 4.6758e-05 - val_accuracy: 1.0000\n",
            "Epoch 270/400\n",
            "1/1 [==============================] - 1s 1s/step - loss: 2.1538e-04 - accuracy: 1.0000 - val_loss: 4.5546e-05 - val_accuracy: 1.0000\n",
            "Epoch 271/400\n",
            "1/1 [==============================] - 2s 2s/step - loss: 4.2940e-04 - accuracy: 1.0000 - val_loss: 4.6809e-05 - val_accuracy: 1.0000\n",
            "Epoch 272/400\n",
            "1/1 [==============================] - 3s 3s/step - loss: 1.2326e-04 - accuracy: 1.0000 - val_loss: 4.8508e-05 - val_accuracy: 1.0000\n",
            "Epoch 273/400\n",
            "1/1 [==============================] - 1s 1s/step - loss: 1.4656e-04 - accuracy: 1.0000 - val_loss: 5.0581e-05 - val_accuracy: 1.0000\n",
            "Epoch 274/400\n",
            "1/1 [==============================] - 1s 1s/step - loss: 3.3568e-04 - accuracy: 1.0000 - val_loss: 5.1545e-05 - val_accuracy: 1.0000\n",
            "Epoch 275/400\n",
            "1/1 [==============================] - 2s 2s/step - loss: 2.6340e-04 - accuracy: 1.0000 - val_loss: 5.2876e-05 - val_accuracy: 1.0000\n",
            "Epoch 276/400\n",
            "1/1 [==============================] - 1s 1s/step - loss: 1.6011e-04 - accuracy: 1.0000 - val_loss: 5.3955e-05 - val_accuracy: 1.0000\n",
            "Epoch 277/400\n",
            "1/1 [==============================] - 3s 3s/step - loss: 1.8035e-04 - accuracy: 1.0000 - val_loss: 5.4132e-05 - val_accuracy: 1.0000\n",
            "Epoch 278/400\n",
            "1/1 [==============================] - 2s 2s/step - loss: 3.5264e-04 - accuracy: 1.0000 - val_loss: 5.4255e-05 - val_accuracy: 1.0000\n",
            "Epoch 279/400\n",
            "1/1 [==============================] - 1s 1s/step - loss: 1.8379e-04 - accuracy: 1.0000 - val_loss: 5.2866e-05 - val_accuracy: 1.0000\n",
            "Epoch 280/400\n",
            "1/1 [==============================] - 1s 1s/step - loss: 1.6715e-04 - accuracy: 1.0000 - val_loss: 5.1491e-05 - val_accuracy: 1.0000\n",
            "Epoch 281/400\n",
            "1/1 [==============================] - 1s 1s/step - loss: 1.4390e-04 - accuracy: 1.0000 - val_loss: 4.9826e-05 - val_accuracy: 1.0000\n",
            "Epoch 282/400\n",
            "1/1 [==============================] - 1s 1s/step - loss: 5.0736e-04 - accuracy: 1.0000 - val_loss: 4.7491e-05 - val_accuracy: 1.0000\n",
            "Epoch 283/400\n",
            "1/1 [==============================] - 1s 1s/step - loss: 0.0052 - accuracy: 1.0000 - val_loss: 7.2751e-05 - val_accuracy: 1.0000\n",
            "Epoch 284/400\n",
            "1/1 [==============================] - 2s 2s/step - loss: 5.7391e-04 - accuracy: 1.0000 - val_loss: 1.6433e-04 - val_accuracy: 1.0000\n",
            "Epoch 285/400\n",
            "1/1 [==============================] - 3s 3s/step - loss: 0.0037 - accuracy: 1.0000 - val_loss: 1.9546e-04 - val_accuracy: 1.0000\n",
            "Epoch 286/400\n",
            "1/1 [==============================] - 1s 1s/step - loss: 3.2069e-04 - accuracy: 1.0000 - val_loss: 2.1792e-04 - val_accuracy: 1.0000\n",
            "Epoch 287/400\n",
            "1/1 [==============================] - 1s 1s/step - loss: 0.0012 - accuracy: 1.0000 - val_loss: 1.8293e-04 - val_accuracy: 1.0000\n",
            "Epoch 288/400\n",
            "1/1 [==============================] - 1s 1s/step - loss: 3.1196e-04 - accuracy: 1.0000 - val_loss: 1.5319e-04 - val_accuracy: 1.0000\n",
            "Epoch 289/400\n",
            "1/1 [==============================] - 2s 2s/step - loss: 2.0655e-04 - accuracy: 1.0000 - val_loss: 1.3019e-04 - val_accuracy: 1.0000\n",
            "Epoch 290/400\n",
            "1/1 [==============================] - 2s 2s/step - loss: 5.5522e-04 - accuracy: 1.0000 - val_loss: 1.0653e-04 - val_accuracy: 1.0000\n",
            "Epoch 291/400\n",
            "1/1 [==============================] - 2s 2s/step - loss: 2.0498e-04 - accuracy: 1.0000 - val_loss: 8.9426e-05 - val_accuracy: 1.0000\n",
            "Epoch 292/400\n",
            "1/1 [==============================] - 1s 1s/step - loss: 1.6798e-04 - accuracy: 1.0000 - val_loss: 7.6610e-05 - val_accuracy: 1.0000\n",
            "Epoch 293/400\n",
            "1/1 [==============================] - 1s 1s/step - loss: 5.3901e-04 - accuracy: 1.0000 - val_loss: 7.0845e-05 - val_accuracy: 1.0000\n",
            "Epoch 294/400\n",
            "1/1 [==============================] - 1s 1s/step - loss: 2.5884e-04 - accuracy: 1.0000 - val_loss: 6.6408e-05 - val_accuracy: 1.0000\n",
            "Epoch 295/400\n",
            "1/1 [==============================] - 1s 1s/step - loss: 1.4696e-04 - accuracy: 1.0000 - val_loss: 6.3467e-05 - val_accuracy: 1.0000\n",
            "Epoch 296/400\n",
            "1/1 [==============================] - 2s 2s/step - loss: 2.2109e-04 - accuracy: 1.0000 - val_loss: 6.0425e-05 - val_accuracy: 1.0000\n",
            "Epoch 297/400\n",
            "1/1 [==============================] - 3s 3s/step - loss: 2.2036e-04 - accuracy: 1.0000 - val_loss: 5.7137e-05 - val_accuracy: 1.0000\n",
            "Epoch 298/400\n",
            "1/1 [==============================] - 1s 1s/step - loss: 1.9158e-04 - accuracy: 1.0000 - val_loss: 5.4151e-05 - val_accuracy: 1.0000\n",
            "Epoch 299/400\n",
            "1/1 [==============================] - 1s 1s/step - loss: 2.0688e-04 - accuracy: 1.0000 - val_loss: 5.0665e-05 - val_accuracy: 1.0000\n",
            "Epoch 300/400\n",
            "1/1 [==============================] - 1s 1s/step - loss: 2.2484e-04 - accuracy: 1.0000 - val_loss: 4.7560e-05 - val_accuracy: 1.0000\n",
            "Epoch 301/400\n",
            "1/1 [==============================] - 2s 2s/step - loss: 6.3270e-04 - accuracy: 1.0000 - val_loss: 4.0495e-05 - val_accuracy: 1.0000\n",
            "Epoch 302/400\n",
            "1/1 [==============================] - 4s 4s/step - loss: 2.7275e-04 - accuracy: 1.0000 - val_loss: 3.5013e-05 - val_accuracy: 1.0000\n",
            "Epoch 303/400\n",
            "1/1 [==============================] - 1s 1s/step - loss: 2.9370e-04 - accuracy: 1.0000 - val_loss: 3.1101e-05 - val_accuracy: 1.0000\n",
            "Epoch 304/400\n",
            "1/1 [==============================] - 1s 1s/step - loss: 2.6515e-04 - accuracy: 1.0000 - val_loss: 2.8090e-05 - val_accuracy: 1.0000\n",
            "Epoch 305/400\n",
            "1/1 [==============================] - 1s 1s/step - loss: 5.3567e-04 - accuracy: 1.0000 - val_loss: 2.6418e-05 - val_accuracy: 1.0000\n",
            "Epoch 306/400\n",
            "1/1 [==============================] - 1s 1s/step - loss: 2.3333e-04 - accuracy: 1.0000 - val_loss: 2.5874e-05 - val_accuracy: 1.0000\n",
            "Epoch 307/400\n",
            "1/1 [==============================] - 3s 3s/step - loss: 2.3418e-04 - accuracy: 1.0000 - val_loss: 2.6071e-05 - val_accuracy: 1.0000\n",
            "Epoch 308/400\n",
            "1/1 [==============================] - 1s 1s/step - loss: 3.8803e-04 - accuracy: 1.0000 - val_loss: 2.6939e-05 - val_accuracy: 1.0000\n",
            "Epoch 309/400\n",
            "1/1 [==============================] - 1s 1s/step - loss: 1.3209e-04 - accuracy: 1.0000 - val_loss: 2.8050e-05 - val_accuracy: 1.0000\n",
            "Epoch 310/400\n",
            "1/1 [==============================] - 2s 2s/step - loss: 1.3915e-04 - accuracy: 1.0000 - val_loss: 2.9289e-05 - val_accuracy: 1.0000\n",
            "Epoch 311/400\n",
            "1/1 [==============================] - 2s 2s/step - loss: 1.4025e-04 - accuracy: 1.0000 - val_loss: 3.0876e-05 - val_accuracy: 1.0000\n",
            "Epoch 312/400\n",
            "1/1 [==============================] - 3s 3s/step - loss: 2.3582e-04 - accuracy: 1.0000 - val_loss: 3.2663e-05 - val_accuracy: 1.0000\n",
            "Epoch 313/400\n",
            "1/1 [==============================] - 1s 1s/step - loss: 2.4902e-04 - accuracy: 1.0000 - val_loss: 3.4883e-05 - val_accuracy: 1.0000\n",
            "Epoch 314/400\n",
            "1/1 [==============================] - 1s 1s/step - loss: 2.0022e-04 - accuracy: 1.0000 - val_loss: 3.7215e-05 - val_accuracy: 1.0000\n",
            "Epoch 315/400\n",
            "1/1 [==============================] - 1s 1s/step - loss: 1.5563e-04 - accuracy: 1.0000 - val_loss: 3.9823e-05 - val_accuracy: 1.0000\n",
            "Epoch 316/400\n",
            "1/1 [==============================] - 1s 1s/step - loss: 1.5898e-04 - accuracy: 1.0000 - val_loss: 4.1730e-05 - val_accuracy: 1.0000\n",
            "Epoch 317/400\n",
            "1/1 [==============================] - 3s 3s/step - loss: 1.1205e-04 - accuracy: 1.0000 - val_loss: 4.3796e-05 - val_accuracy: 1.0000\n",
            "Epoch 318/400\n",
            "1/1 [==============================] - 2s 2s/step - loss: 9.5894e-05 - accuracy: 1.0000 - val_loss: 4.5849e-05 - val_accuracy: 1.0000\n",
            "Epoch 319/400\n",
            "1/1 [==============================] - 1s 1s/step - loss: 1.1426e-04 - accuracy: 1.0000 - val_loss: 4.8004e-05 - val_accuracy: 1.0000\n",
            "Epoch 320/400\n",
            "1/1 [==============================] - 1s 1s/step - loss: 1.3754e-04 - accuracy: 1.0000 - val_loss: 5.0312e-05 - val_accuracy: 1.0000\n",
            "Epoch 321/400\n",
            "1/1 [==============================] - 1s 1s/step - loss: 1.6495e-04 - accuracy: 1.0000 - val_loss: 5.2817e-05 - val_accuracy: 1.0000\n",
            "Epoch 322/400\n",
            "1/1 [==============================] - 1s 1s/step - loss: 2.5988e-04 - accuracy: 1.0000 - val_loss: 5.5291e-05 - val_accuracy: 1.0000\n",
            "Epoch 323/400\n",
            "1/1 [==============================] - 1s 1s/step - loss: 2.4081e-04 - accuracy: 1.0000 - val_loss: 5.6438e-05 - val_accuracy: 1.0000\n",
            "Epoch 324/400\n",
            "1/1 [==============================] - 1s 1s/step - loss: 1.4044e-04 - accuracy: 1.0000 - val_loss: 5.7082e-05 - val_accuracy: 1.0000\n",
            "Epoch 325/400\n",
            "1/1 [==============================] - 3s 3s/step - loss: 1.1249e-04 - accuracy: 1.0000 - val_loss: 5.6452e-05 - val_accuracy: 1.0000\n",
            "Epoch 326/400\n",
            "1/1 [==============================] - 2s 2s/step - loss: 2.0037e-04 - accuracy: 1.0000 - val_loss: 5.4689e-05 - val_accuracy: 1.0000\n",
            "Epoch 327/400\n",
            "1/1 [==============================] - 1s 1s/step - loss: 1.3918e-04 - accuracy: 1.0000 - val_loss: 5.2844e-05 - val_accuracy: 1.0000\n",
            "Epoch 328/400\n",
            "1/1 [==============================] - 1s 1s/step - loss: 2.0135e-04 - accuracy: 1.0000 - val_loss: 5.0509e-05 - val_accuracy: 1.0000\n",
            "Epoch 329/400\n",
            "1/1 [==============================] - 1s 1s/step - loss: 1.3731e-04 - accuracy: 1.0000 - val_loss: 4.8160e-05 - val_accuracy: 1.0000\n",
            "Epoch 330/400\n",
            "1/1 [==============================] - 1s 1s/step - loss: 1.3240e-04 - accuracy: 1.0000 - val_loss: 4.5818e-05 - val_accuracy: 1.0000\n",
            "Epoch 331/400\n",
            "1/1 [==============================] - 2s 2s/step - loss: 1.3031e-04 - accuracy: 1.0000 - val_loss: 4.3326e-05 - val_accuracy: 1.0000\n",
            "Epoch 332/400\n",
            "1/1 [==============================] - 2s 2s/step - loss: 1.4657e-04 - accuracy: 1.0000 - val_loss: 4.1195e-05 - val_accuracy: 1.0000\n",
            "Epoch 333/400\n",
            "1/1 [==============================] - 2s 2s/step - loss: 1.6996e-04 - accuracy: 1.0000 - val_loss: 3.8894e-05 - val_accuracy: 1.0000\n",
            "Epoch 334/400\n",
            "1/1 [==============================] - 2s 2s/step - loss: 1.9470e-04 - accuracy: 1.0000 - val_loss: 3.6728e-05 - val_accuracy: 1.0000\n",
            "Epoch 335/400\n",
            "1/1 [==============================] - 1s 1s/step - loss: 7.5016e-05 - accuracy: 1.0000 - val_loss: 3.4835e-05 - val_accuracy: 1.0000\n",
            "Epoch 336/400\n",
            "1/1 [==============================] - 1s 1s/step - loss: 1.4770e-04 - accuracy: 1.0000 - val_loss: 3.2786e-05 - val_accuracy: 1.0000\n",
            "Epoch 337/400\n",
            "1/1 [==============================] - 1s 1s/step - loss: 1.7061e-04 - accuracy: 1.0000 - val_loss: 3.1189e-05 - val_accuracy: 1.0000\n",
            "Epoch 338/400\n",
            "1/1 [==============================] - 2s 2s/step - loss: 1.6502e-04 - accuracy: 1.0000 - val_loss: 2.9721e-05 - val_accuracy: 1.0000\n",
            "Epoch 339/400\n",
            "1/1 [==============================] - 2s 2s/step - loss: 1.1919e-04 - accuracy: 1.0000 - val_loss: 2.8645e-05 - val_accuracy: 1.0000\n",
            "Epoch 340/400\n",
            "1/1 [==============================] - 1s 1s/step - loss: 1.1596e-04 - accuracy: 1.0000 - val_loss: 2.7681e-05 - val_accuracy: 1.0000\n",
            "Epoch 341/400\n",
            "1/1 [==============================] - 1s 1s/step - loss: 1.0096e-04 - accuracy: 1.0000 - val_loss: 2.6823e-05 - val_accuracy: 1.0000\n",
            "Epoch 342/400\n",
            "1/1 [==============================] - 1s 1s/step - loss: 1.4701e-04 - accuracy: 1.0000 - val_loss: 2.6139e-05 - val_accuracy: 1.0000\n",
            "Epoch 343/400\n",
            "1/1 [==============================] - 1s 1s/step - loss: 1.8936e-04 - accuracy: 1.0000 - val_loss: 2.5648e-05 - val_accuracy: 1.0000\n",
            "Epoch 344/400\n",
            "1/1 [==============================] - 1s 1s/step - loss: 1.3381e-04 - accuracy: 1.0000 - val_loss: 2.5464e-05 - val_accuracy: 1.0000\n",
            "Epoch 345/400\n",
            "1/1 [==============================] - 3s 3s/step - loss: 7.1376e-05 - accuracy: 1.0000 - val_loss: 2.5315e-05 - val_accuracy: 1.0000\n",
            "Epoch 346/400\n",
            "1/1 [==============================] - 2s 2s/step - loss: 1.3300e-04 - accuracy: 1.0000 - val_loss: 2.5185e-05 - val_accuracy: 1.0000\n",
            "Epoch 347/400\n",
            "1/1 [==============================] - 1s 1s/step - loss: 1.2604e-04 - accuracy: 1.0000 - val_loss: 2.5018e-05 - val_accuracy: 1.0000\n",
            "Epoch 348/400\n",
            "1/1 [==============================] - 1s 1s/step - loss: 1.2721e-04 - accuracy: 1.0000 - val_loss: 2.4875e-05 - val_accuracy: 1.0000\n",
            "Epoch 349/400\n",
            "1/1 [==============================] - 1s 1s/step - loss: 1.2616e-04 - accuracy: 1.0000 - val_loss: 2.4777e-05 - val_accuracy: 1.0000\n",
            "Epoch 350/400\n",
            "1/1 [==============================] - 1s 1s/step - loss: 1.0881e-04 - accuracy: 1.0000 - val_loss: 2.4627e-05 - val_accuracy: 1.0000\n",
            "Epoch 351/400\n",
            "1/1 [==============================] - 3s 3s/step - loss: 9.1524e-05 - accuracy: 1.0000 - val_loss: 2.4545e-05 - val_accuracy: 1.0000\n",
            "Epoch 352/400\n",
            "1/1 [==============================] - 1s 1s/step - loss: 1.1919e-04 - accuracy: 1.0000 - val_loss: 2.4429e-05 - val_accuracy: 1.0000\n",
            "Epoch 353/400\n",
            "1/1 [==============================] - 1s 1s/step - loss: 1.4056e-04 - accuracy: 1.0000 - val_loss: 2.4647e-05 - val_accuracy: 1.0000\n",
            "Epoch 354/400\n",
            "1/1 [==============================] - 2s 2s/step - loss: 1.8462e-04 - accuracy: 1.0000 - val_loss: 2.5226e-05 - val_accuracy: 1.0000\n",
            "Epoch 355/400\n",
            "1/1 [==============================] - 3s 3s/step - loss: 1.2338e-04 - accuracy: 1.0000 - val_loss: 2.6057e-05 - val_accuracy: 1.0000\n",
            "Epoch 356/400\n",
            "1/1 [==============================] - 1s 1s/step - loss: 9.8622e-05 - accuracy: 1.0000 - val_loss: 2.6979e-05 - val_accuracy: 1.0000\n",
            "Epoch 357/400\n",
            "1/1 [==============================] - 1s 1s/step - loss: 1.2853e-04 - accuracy: 1.0000 - val_loss: 2.7449e-05 - val_accuracy: 1.0000\n",
            "Epoch 358/400\n",
            "1/1 [==============================] - 1s 1s/step - loss: 1.2173e-04 - accuracy: 1.0000 - val_loss: 2.7800e-05 - val_accuracy: 1.0000\n",
            "Epoch 359/400\n",
            "1/1 [==============================] - 1s 1s/step - loss: 1.4061e-04 - accuracy: 1.0000 - val_loss: 2.8062e-05 - val_accuracy: 1.0000\n",
            "Epoch 360/400\n",
            "1/1 [==============================] - 3s 3s/step - loss: 1.1461e-04 - accuracy: 1.0000 - val_loss: 2.8328e-05 - val_accuracy: 1.0000\n",
            "Epoch 361/400\n",
            "1/1 [==============================] - 2s 2s/step - loss: 1.6370e-04 - accuracy: 1.0000 - val_loss: 2.8907e-05 - val_accuracy: 1.0000\n",
            "Epoch 362/400\n",
            "1/1 [==============================] - 1s 1s/step - loss: 2.9336e-04 - accuracy: 1.0000 - val_loss: 2.9172e-05 - val_accuracy: 1.0000\n",
            "Epoch 363/400\n",
            "1/1 [==============================] - 1s 1s/step - loss: 1.1724e-04 - accuracy: 1.0000 - val_loss: 2.9251e-05 - val_accuracy: 1.0000\n",
            "Epoch 364/400\n",
            "1/1 [==============================] - 2s 2s/step - loss: 1.0694e-04 - accuracy: 1.0000 - val_loss: 2.9414e-05 - val_accuracy: 1.0000\n",
            "Epoch 365/400\n",
            "1/1 [==============================] - 1s 1s/step - loss: 1.0890e-04 - accuracy: 1.0000 - val_loss: 2.9489e-05 - val_accuracy: 1.0000\n",
            "Epoch 366/400\n",
            "1/1 [==============================] - 2s 2s/step - loss: 9.6815e-05 - accuracy: 1.0000 - val_loss: 2.9509e-05 - val_accuracy: 1.0000\n",
            "Epoch 367/400\n",
            "1/1 [==============================] - 3s 3s/step - loss: 1.3206e-04 - accuracy: 1.0000 - val_loss: 2.9605e-05 - val_accuracy: 1.0000\n",
            "Epoch 368/400\n",
            "1/1 [==============================] - 1s 1s/step - loss: 1.4781e-04 - accuracy: 1.0000 - val_loss: 2.9938e-05 - val_accuracy: 1.0000\n",
            "Epoch 369/400\n",
            "1/1 [==============================] - 1s 1s/step - loss: 1.1222e-04 - accuracy: 1.0000 - val_loss: 2.9945e-05 - val_accuracy: 1.0000\n",
            "Epoch 370/400\n",
            "1/1 [==============================] - 1s 1s/step - loss: 1.6658e-04 - accuracy: 1.0000 - val_loss: 3.0020e-05 - val_accuracy: 1.0000\n",
            "Epoch 371/400\n",
            "1/1 [==============================] - 1s 1s/step - loss: 1.0896e-04 - accuracy: 1.0000 - val_loss: 3.0200e-05 - val_accuracy: 1.0000\n",
            "Epoch 372/400\n",
            "1/1 [==============================] - 1s 1s/step - loss: 1.5568e-04 - accuracy: 1.0000 - val_loss: 2.9816e-05 - val_accuracy: 1.0000\n",
            "Epoch 373/400\n",
            "1/1 [==============================] - 2s 2s/step - loss: 1.1608e-04 - accuracy: 1.0000 - val_loss: 2.9666e-05 - val_accuracy: 1.0000\n",
            "Epoch 374/400\n",
            "1/1 [==============================] - 3s 3s/step - loss: 1.5202e-04 - accuracy: 1.0000 - val_loss: 2.9744e-05 - val_accuracy: 1.0000\n",
            "Epoch 375/400\n",
            "1/1 [==============================] - 1s 1s/step - loss: 1.0457e-04 - accuracy: 1.0000 - val_loss: 2.9928e-05 - val_accuracy: 1.0000\n",
            "Epoch 376/400\n",
            "1/1 [==============================] - 1s 1s/step - loss: 6.0695e-05 - accuracy: 1.0000 - val_loss: 3.0016e-05 - val_accuracy: 1.0000\n",
            "Epoch 377/400\n",
            "1/1 [==============================] - 2s 2s/step - loss: 1.1404e-04 - accuracy: 1.0000 - val_loss: 3.0047e-05 - val_accuracy: 1.0000\n",
            "Epoch 378/400\n",
            "1/1 [==============================] - 2s 2s/step - loss: 7.7599e-05 - accuracy: 1.0000 - val_loss: 3.0262e-05 - val_accuracy: 1.0000\n",
            "Epoch 379/400\n",
            "1/1 [==============================] - 3s 3s/step - loss: 1.1434e-04 - accuracy: 1.0000 - val_loss: 3.0013e-05 - val_accuracy: 1.0000\n",
            "Epoch 380/400\n",
            "1/1 [==============================] - 1s 1s/step - loss: 9.8986e-05 - accuracy: 1.0000 - val_loss: 2.9666e-05 - val_accuracy: 1.0000\n",
            "Epoch 381/400\n",
            "1/1 [==============================] - 1s 1s/step - loss: 8.6115e-05 - accuracy: 1.0000 - val_loss: 2.9243e-05 - val_accuracy: 1.0000\n",
            "Epoch 382/400\n",
            "1/1 [==============================] - 1s 1s/step - loss: 8.9774e-05 - accuracy: 1.0000 - val_loss: 2.8525e-05 - val_accuracy: 1.0000\n",
            "Epoch 383/400\n",
            "1/1 [==============================] - 1s 1s/step - loss: 9.4293e-05 - accuracy: 1.0000 - val_loss: 2.7558e-05 - val_accuracy: 1.0000\n",
            "Epoch 384/400\n",
            "1/1 [==============================] - 2s 2s/step - loss: 1.3284e-04 - accuracy: 1.0000 - val_loss: 2.6751e-05 - val_accuracy: 1.0000\n",
            "Epoch 385/400\n",
            "1/1 [==============================] - 2s 2s/step - loss: 5.6331e-05 - accuracy: 1.0000 - val_loss: 2.5998e-05 - val_accuracy: 1.0000\n",
            "Epoch 386/400\n",
            "1/1 [==============================] - 1s 1s/step - loss: 5.7136e-05 - accuracy: 1.0000 - val_loss: 2.5202e-05 - val_accuracy: 1.0000\n",
            "Epoch 387/400\n",
            "1/1 [==============================] - 1s 1s/step - loss: 7.1597e-05 - accuracy: 1.0000 - val_loss: 2.4568e-05 - val_accuracy: 1.0000\n",
            "Epoch 388/400\n",
            "1/1 [==============================] - 2s 2s/step - loss: 1.0599e-04 - accuracy: 1.0000 - val_loss: 2.3993e-05 - val_accuracy: 1.0000\n",
            "Epoch 389/400\n",
            "1/1 [==============================] - 1s 1s/step - loss: 8.2377e-05 - accuracy: 1.0000 - val_loss: 2.3554e-05 - val_accuracy: 1.0000\n",
            "Epoch 390/400\n",
            "1/1 [==============================] - 2s 2s/step - loss: 4.7552e-05 - accuracy: 1.0000 - val_loss: 2.3111e-05 - val_accuracy: 1.0000\n",
            "Epoch 391/400\n",
            "1/1 [==============================] - 2s 2s/step - loss: 7.7237e-05 - accuracy: 1.0000 - val_loss: 2.2709e-05 - val_accuracy: 1.0000\n",
            "Epoch 392/400\n",
            "1/1 [==============================] - 1s 1s/step - loss: 1.0172e-04 - accuracy: 1.0000 - val_loss: 2.2283e-05 - val_accuracy: 1.0000\n",
            "Epoch 393/400\n",
            "1/1 [==============================] - 1s 1s/step - loss: 9.3485e-05 - accuracy: 1.0000 - val_loss: 2.2035e-05 - val_accuracy: 1.0000\n",
            "Epoch 394/400\n",
            "1/1 [==============================] - 1s 1s/step - loss: 8.5275e-05 - accuracy: 1.0000 - val_loss: 2.1834e-05 - val_accuracy: 1.0000\n",
            "Epoch 395/400\n",
            "1/1 [==============================] - 1s 1s/step - loss: 1.0410e-04 - accuracy: 1.0000 - val_loss: 2.1493e-05 - val_accuracy: 1.0000\n",
            "Epoch 396/400\n",
            "1/1 [==============================] - 1s 1s/step - loss: 9.9304e-05 - accuracy: 1.0000 - val_loss: 2.1204e-05 - val_accuracy: 1.0000\n",
            "Epoch 397/400\n",
            "1/1 [==============================] - 2s 2s/step - loss: 9.4936e-05 - accuracy: 1.0000 - val_loss: 2.0932e-05 - val_accuracy: 1.0000\n",
            "Epoch 398/400\n",
            "1/1 [==============================] - 2s 2s/step - loss: 8.8402e-05 - accuracy: 1.0000 - val_loss: 2.0734e-05 - val_accuracy: 1.0000\n",
            "Epoch 399/400\n",
            "1/1 [==============================] - 2s 2s/step - loss: 1.1401e-04 - accuracy: 1.0000 - val_loss: 2.0179e-05 - val_accuracy: 1.0000\n",
            "Epoch 400/400\n",
            "1/1 [==============================] - 1s 1s/step - loss: 5.4512e-05 - accuracy: 1.0000 - val_loss: 1.9726e-05 - val_accuracy: 1.0000\n"
          ]
        },
        {
          "output_type": "execute_result",
          "data": {
            "text/plain": [
              "<keras.callbacks.History at 0x7f0d801bfeb0>"
            ]
          },
          "metadata": {},
          "execution_count": 41
        }
      ]
    },
    {
      "cell_type": "code",
      "source": [
        "#Import req. Lib.\n",
        "from tensorflow.keras.preprocessing import image\n",
        "import numpy as np"
      ],
      "metadata": {
        "id": "irZ6QXfyQ7d7"
      },
      "execution_count": 42,
      "outputs": []
    },
    {
      "cell_type": "code",
      "source": [
        "#Test 1\n",
        "img = image.load_img('/content/drive/MyDrive/Test/badger/00f56e5c92.jpg',target_size=(64,64))\n",
        "f = image.img_to_array(img) \n",
        "f = np.expand_dims(f,axis=0) \n",
        "pred = np.argmax(model.predict(f)) \n",
        "op = ['badger','bat','bear','bee','beetle','bison'] \n",
        "op[pred] "
      ],
      "metadata": {
        "colab": {
          "base_uri": "https://localhost:8080/",
          "height": 53
        },
        "id": "AfVvAjzrQ-QU",
        "outputId": "d0aacdfa-0402-4ab6-973e-3ecb0889e7a1"
      },
      "execution_count": 45,
      "outputs": [
        {
          "output_type": "stream",
          "name": "stdout",
          "text": [
            "1/1 [==============================] - 0s 33ms/step\n"
          ]
        },
        {
          "output_type": "execute_result",
          "data": {
            "text/plain": [
              "'badger'"
            ],
            "application/vnd.google.colaboratory.intrinsic+json": {
              "type": "string"
            }
          },
          "metadata": {},
          "execution_count": 45
        }
      ]
    },
    {
      "cell_type": "code",
      "source": [
        "#Test 2\n",
        "img = image.load_img('/content/drive/MyDrive/Train/bee/0d562e4829.jpg',target_size=(64,64))\n",
        "f = image.img_to_array(img) \n",
        "f = np.expand_dims(f,axis=0) \n",
        "pred = np.argmax(model.predict(f)) \n",
        "op = ['badger','bat','bear','bee','beetle','bison']\n",
        "op[pred] "
      ],
      "metadata": {
        "colab": {
          "base_uri": "https://localhost:8080/",
          "height": 53
        },
        "id": "GMHjWi6gRZBv",
        "outputId": "f7d4bafd-c223-4ffd-b99c-04e2b00e7470"
      },
      "execution_count": 46,
      "outputs": [
        {
          "output_type": "stream",
          "name": "stdout",
          "text": [
            "1/1 [==============================] - 0s 32ms/step\n"
          ]
        },
        {
          "output_type": "execute_result",
          "data": {
            "text/plain": [
              "'bee'"
            ],
            "application/vnd.google.colaboratory.intrinsic+json": {
              "type": "string"
            }
          },
          "metadata": {},
          "execution_count": 46
        }
      ]
    },
    {
      "cell_type": "code",
      "source": [
        "#Test 3\n",
        "img = image.load_img('/content/drive/MyDrive/Train/bison/0cd71800f3.jpg',target_size=(64,64))\n",
        "f = image.img_to_array(img) \n",
        "f = np.expand_dims(f,axis=0) \n",
        "pred = np.argmax(model.predict(f)) \n",
        "op = ['badger','bat','bear','bee','beetle','bison'] \n",
        "op[pred] "
      ],
      "metadata": {
        "colab": {
          "base_uri": "https://localhost:8080/",
          "height": 53
        },
        "id": "DEFjDAgnltgU",
        "outputId": "221827f2-9281-4d6e-9421-7594fe3d5f6e"
      },
      "execution_count": 47,
      "outputs": [
        {
          "output_type": "stream",
          "name": "stdout",
          "text": [
            "1/1 [==============================] - 0s 39ms/step\n"
          ]
        },
        {
          "output_type": "execute_result",
          "data": {
            "text/plain": [
              "'bison'"
            ],
            "application/vnd.google.colaboratory.intrinsic+json": {
              "type": "string"
            }
          },
          "metadata": {},
          "execution_count": 47
        }
      ]
    },
    {
      "cell_type": "code",
      "source": [
        "#Test 4\n",
        "img = image.load_img('/content/drive/MyDrive/Train/beetle/02b34c63a2.jpg',target_size=(64,64))\n",
        "f = image.img_to_array(img) \n",
        "f = np.expand_dims(f,axis=0) \n",
        "pred = np.argmax(model.predict(f)) \n",
        "op = ['badger','bat','bear','bee','beetle','bison']\n",
        "op[pred] "
      ],
      "metadata": {
        "colab": {
          "base_uri": "https://localhost:8080/",
          "height": 53
        },
        "id": "Wa1gu8BQl8ZK",
        "outputId": "80c4bdef-76b3-4eb4-c9ab-bd2173210313"
      },
      "execution_count": 48,
      "outputs": [
        {
          "output_type": "stream",
          "name": "stdout",
          "text": [
            "1/1 [==============================] - 0s 33ms/step\n"
          ]
        },
        {
          "output_type": "execute_result",
          "data": {
            "text/plain": [
              "'beetle'"
            ],
            "application/vnd.google.colaboratory.intrinsic+json": {
              "type": "string"
            }
          },
          "metadata": {},
          "execution_count": 48
        }
      ]
    },
    {
      "cell_type": "code",
      "source": [
        "#Test 5\n",
        "img = image.load_img('/content/drive/MyDrive/Train/bat/0de51464d4.jpg',target_size=(64,64))\n",
        "f = image.img_to_array(img) \n",
        "f = np.expand_dims(f,axis=0) \n",
        "pred = np.argmax(model.predict(f)) \n",
        "op = ['badger','bat','bear','bee','beetle','bison']\n",
        "op[pred] "
      ],
      "metadata": {
        "colab": {
          "base_uri": "https://localhost:8080/",
          "height": 53
        },
        "id": "Hblw_wDPmG8c",
        "outputId": "06a940ba-5410-46b2-a5ac-576fb6161028"
      },
      "execution_count": 49,
      "outputs": [
        {
          "output_type": "stream",
          "name": "stdout",
          "text": [
            "1/1 [==============================] - 0s 31ms/step\n"
          ]
        },
        {
          "output_type": "execute_result",
          "data": {
            "text/plain": [
              "'bat'"
            ],
            "application/vnd.google.colaboratory.intrinsic+json": {
              "type": "string"
            }
          },
          "metadata": {},
          "execution_count": 49
        }
      ]
    },
    {
      "cell_type": "code",
      "source": [
        "#Test 6\n",
        "img = image.load_img('/content/drive/MyDrive/Train/bear/0f6b575750.jpg',target_size=(64,64))\n",
        "f = image.img_to_array(img) \n",
        "f = np.expand_dims(f,axis=0) \n",
        "pred = np.argmax(model.predict(f)) \n",
        "op = ['badger','bat','bear','bee','beetle','bison']\n",
        "op[pred] "
      ],
      "metadata": {
        "colab": {
          "base_uri": "https://localhost:8080/",
          "height": 53
        },
        "id": "L0R81CGZmSyn",
        "outputId": "26bc65fa-99c3-4321-b7ce-1b572ae2f9c2"
      },
      "execution_count": 50,
      "outputs": [
        {
          "output_type": "stream",
          "name": "stdout",
          "text": [
            "1/1 [==============================] - 0s 45ms/step\n"
          ]
        },
        {
          "output_type": "execute_result",
          "data": {
            "text/plain": [
              "'bear'"
            ],
            "application/vnd.google.colaboratory.intrinsic+json": {
              "type": "string"
            }
          },
          "metadata": {},
          "execution_count": 50
        }
      ]
    },
    {
      "cell_type": "code",
      "source": [
        "from tensorflow.keras.callbacks import EarlyStopping, ReduceLROnPlateau"
      ],
      "metadata": {
        "id": "ngn_FTC6mdb3"
      },
      "execution_count": 51,
      "outputs": []
    },
    {
      "cell_type": "code",
      "source": [
        "early_stop = EarlyStopping(monitor='val_accuracy', \n",
        "                           patience=5)\n",
        "\n",
        "lr = ReduceLROnPlateau(monitor='val_accuaracy', \n",
        "                       factor=0.5, \n",
        "                       min_lr=0.00001)\n",
        "\n",
        "callback = [early_stop,lr]"
      ],
      "metadata": {
        "id": "3qALjb7wmlLj"
      },
      "execution_count": 52,
      "outputs": []
    },
    {
      "cell_type": "code",
      "source": [
        "#Train model\n",
        "model.fit_generator(ftrain,\n",
        "                    steps_per_epoch=len(ftrain),\n",
        "                    epochs=128, #Increase your epochs to higher to get better result if required\n",
        "                    callbacks=callback,\n",
        "                    validation_data=ftest,\n",
        "                    validation_steps=len(ftest))"
      ],
      "metadata": {
        "colab": {
          "base_uri": "https://localhost:8080/"
        },
        "id": "qJRkvJYOmnwS",
        "outputId": "6fbebcbb-50e3-4aa2-954f-1b1a3ab3575a"
      },
      "execution_count": 53,
      "outputs": [
        {
          "output_type": "stream",
          "name": "stderr",
          "text": [
            "<ipython-input-53-e4d8fe4d86a5>:2: UserWarning: `Model.fit_generator` is deprecated and will be removed in a future version. Please use `Model.fit`, which supports generators.\n",
            "  model.fit_generator(ftrain,\n"
          ]
        },
        {
          "output_type": "stream",
          "name": "stdout",
          "text": [
            "Epoch 1/128\n",
            "1/1 [==============================] - ETA: 0s - loss: 6.6744e-05 - accuracy: 1.0000"
          ]
        },
        {
          "output_type": "stream",
          "name": "stderr",
          "text": [
            "WARNING:tensorflow:Learning rate reduction is conditioned on metric `val_accuaracy` which is not available. Available metrics are: loss,accuracy,val_loss,val_accuracy,lr\n"
          ]
        },
        {
          "output_type": "stream",
          "name": "stdout",
          "text": [
            "\b\b\b\b\b\b\b\b\b\b\b\b\b\b\b\b\b\b\b\b\b\b\b\b\b\b\b\b\b\b\b\b\b\b\b\b\b\b\b\b\b\b\b\b\b\b\b\b\b\b\b\b\b\b\b\b\b\b\b\b\b\b\b\b\b\b\b\b\b\b\b\b\b\b\b\b\b\b\b\b\b\b\b\b\r1/1 [==============================] - 2s 2s/step - loss: 6.6744e-05 - accuracy: 1.0000 - val_loss: 1.9416e-05 - val_accuracy: 1.0000 - lr: 0.0010\n",
            "Epoch 2/128\n",
            "1/1 [==============================] - ETA: 0s - loss: 9.6191e-05 - accuracy: 1.0000"
          ]
        },
        {
          "output_type": "stream",
          "name": "stderr",
          "text": [
            "WARNING:tensorflow:Learning rate reduction is conditioned on metric `val_accuaracy` which is not available. Available metrics are: loss,accuracy,val_loss,val_accuracy,lr\n"
          ]
        },
        {
          "output_type": "stream",
          "name": "stdout",
          "text": [
            "\b\b\b\b\b\b\b\b\b\b\b\b\b\b\b\b\b\b\b\b\b\b\b\b\b\b\b\b\b\b\b\b\b\b\b\b\b\b\b\b\b\b\b\b\b\b\b\b\b\b\b\b\b\b\b\b\b\b\b\b\b\b\b\b\b\b\b\b\b\b\b\b\b\b\b\b\b\b\b\b\b\b\b\b\r1/1 [==============================] - 1s 1s/step - loss: 9.6191e-05 - accuracy: 1.0000 - val_loss: 1.9123e-05 - val_accuracy: 1.0000 - lr: 0.0010\n",
            "Epoch 3/128\n",
            "1/1 [==============================] - ETA: 0s - loss: 7.0123e-05 - accuracy: 1.0000"
          ]
        },
        {
          "output_type": "stream",
          "name": "stderr",
          "text": [
            "WARNING:tensorflow:Learning rate reduction is conditioned on metric `val_accuaracy` which is not available. Available metrics are: loss,accuracy,val_loss,val_accuracy,lr\n"
          ]
        },
        {
          "output_type": "stream",
          "name": "stdout",
          "text": [
            "\b\b\b\b\b\b\b\b\b\b\b\b\b\b\b\b\b\b\b\b\b\b\b\b\b\b\b\b\b\b\b\b\b\b\b\b\b\b\b\b\b\b\b\b\b\b\b\b\b\b\b\b\b\b\b\b\b\b\b\b\b\b\b\b\b\b\b\b\b\b\b\b\b\b\b\b\b\b\b\b\b\b\b\b\r1/1 [==============================] - 1s 1s/step - loss: 7.0123e-05 - accuracy: 1.0000 - val_loss: 1.8946e-05 - val_accuracy: 1.0000 - lr: 0.0010\n",
            "Epoch 4/128\n",
            "1/1 [==============================] - ETA: 0s - loss: 8.5901e-05 - accuracy: 1.0000"
          ]
        },
        {
          "output_type": "stream",
          "name": "stderr",
          "text": [
            "WARNING:tensorflow:Learning rate reduction is conditioned on metric `val_accuaracy` which is not available. Available metrics are: loss,accuracy,val_loss,val_accuracy,lr\n"
          ]
        },
        {
          "output_type": "stream",
          "name": "stdout",
          "text": [
            "\b\b\b\b\b\b\b\b\b\b\b\b\b\b\b\b\b\b\b\b\b\b\b\b\b\b\b\b\b\b\b\b\b\b\b\b\b\b\b\b\b\b\b\b\b\b\b\b\b\b\b\b\b\b\b\b\b\b\b\b\b\b\b\b\b\b\b\b\b\b\b\b\b\b\b\b\b\b\b\b\b\b\b\b\r1/1 [==============================] - 1s 1s/step - loss: 8.5901e-05 - accuracy: 1.0000 - val_loss: 1.8905e-05 - val_accuracy: 1.0000 - lr: 0.0010\n",
            "Epoch 5/128\n",
            "1/1 [==============================] - ETA: 0s - loss: 1.3911e-04 - accuracy: 1.0000"
          ]
        },
        {
          "output_type": "stream",
          "name": "stderr",
          "text": [
            "WARNING:tensorflow:Learning rate reduction is conditioned on metric `val_accuaracy` which is not available. Available metrics are: loss,accuracy,val_loss,val_accuracy,lr\n"
          ]
        },
        {
          "output_type": "stream",
          "name": "stdout",
          "text": [
            "\b\b\b\b\b\b\b\b\b\b\b\b\b\b\b\b\b\b\b\b\b\b\b\b\b\b\b\b\b\b\b\b\b\b\b\b\b\b\b\b\b\b\b\b\b\b\b\b\b\b\b\b\b\b\b\b\b\b\b\b\b\b\b\b\b\b\b\b\b\b\b\b\b\b\b\b\b\b\b\b\b\b\b\b\r1/1 [==============================] - 2s 2s/step - loss: 1.3911e-04 - accuracy: 1.0000 - val_loss: 1.8514e-05 - val_accuracy: 1.0000 - lr: 0.0010\n",
            "Epoch 6/128\n",
            "1/1 [==============================] - ETA: 0s - loss: 8.9079e-05 - accuracy: 1.0000"
          ]
        },
        {
          "output_type": "stream",
          "name": "stderr",
          "text": [
            "WARNING:tensorflow:Learning rate reduction is conditioned on metric `val_accuaracy` which is not available. Available metrics are: loss,accuracy,val_loss,val_accuracy,lr\n"
          ]
        },
        {
          "output_type": "stream",
          "name": "stdout",
          "text": [
            "\b\b\b\b\b\b\b\b\b\b\b\b\b\b\b\b\b\b\b\b\b\b\b\b\b\b\b\b\b\b\b\b\b\b\b\b\b\b\b\b\b\b\b\b\b\b\b\b\b\b\b\b\b\b\b\b\b\b\b\b\b\b\b\b\b\b\b\b\b\b\b\b\b\b\b\b\b\b\b\b\b\b\b\b\r1/1 [==============================] - 2s 2s/step - loss: 8.9079e-05 - accuracy: 1.0000 - val_loss: 1.8207e-05 - val_accuracy: 1.0000 - lr: 0.0010\n"
          ]
        },
        {
          "output_type": "execute_result",
          "data": {
            "text/plain": [
              "<keras.callbacks.History at 0x7f0d8029da50>"
            ]
          },
          "metadata": {},
          "execution_count": 53
        }
      ]
    },
    {
      "cell_type": "code",
      "source": [
        "#Test 1\n",
        "img = image.load_img('/content/drive/MyDrive/Train/badger/00f56e5c92.jpg',target_size=(64,64))\n",
        "f = image.img_to_array(img) \n",
        "f = np.expand_dims(f,axis=0) \n",
        "pred = np.argmax(model.predict(f)) \n",
        "op = ['badger','bat','bear','bee','beetle','bison'] \n",
        "op[pred] "
      ],
      "metadata": {
        "colab": {
          "base_uri": "https://localhost:8080/",
          "height": 53
        },
        "id": "K2CJnSCLn28j",
        "outputId": "38eb9312-cca5-4379-a58e-32e5b0e01ba1"
      },
      "execution_count": 54,
      "outputs": [
        {
          "output_type": "stream",
          "name": "stdout",
          "text": [
            "1/1 [==============================] - 0s 35ms/step\n"
          ]
        },
        {
          "output_type": "execute_result",
          "data": {
            "text/plain": [
              "'badger'"
            ],
            "application/vnd.google.colaboratory.intrinsic+json": {
              "type": "string"
            }
          },
          "metadata": {},
          "execution_count": 54
        }
      ]
    },
    {
      "cell_type": "code",
      "source": [
        "#Test 2\n",
        "img = image.load_img('/content/drive/MyDrive/Train/bat/1dd514de63.jpg',target_size=(64,64))\n",
        "f = image.img_to_array(img) \n",
        "f = np.expand_dims(f,axis=0) \n",
        "pred = np.argmax(model.predict(f)) \n",
        "op = ['badger','bat','bear','bee','beetle','bison'] \n",
        "op[pred] "
      ],
      "metadata": {
        "colab": {
          "base_uri": "https://localhost:8080/",
          "height": 53
        },
        "id": "wajDpQ8ZohtG",
        "outputId": "dfa69d40-1bf2-4b39-9601-c8705cfa51c9"
      },
      "execution_count": 55,
      "outputs": [
        {
          "output_type": "stream",
          "name": "stdout",
          "text": [
            "1/1 [==============================] - 0s 34ms/step\n"
          ]
        },
        {
          "output_type": "execute_result",
          "data": {
            "text/plain": [
              "'bat'"
            ],
            "application/vnd.google.colaboratory.intrinsic+json": {
              "type": "string"
            }
          },
          "metadata": {},
          "execution_count": 55
        }
      ]
    },
    {
      "cell_type": "code",
      "source": [
        "#Test 3\n",
        "img = image.load_img('/content/drive/MyDrive/Train/bear/0f61069510.jpg',target_size=(64,64))\n",
        "f = image.img_to_array(img) \n",
        "f = np.expand_dims(f,axis=0) \n",
        "pred = np.argmax(model.predict(f)) \n",
        "op = ['badger','bat','bear','bee','beetle','bison'] \n",
        "op[pred] "
      ],
      "metadata": {
        "colab": {
          "base_uri": "https://localhost:8080/",
          "height": 53
        },
        "id": "qpM1MSG6o7CF",
        "outputId": "77e57702-d803-441c-ae09-d148d3dcebef"
      },
      "execution_count": 56,
      "outputs": [
        {
          "output_type": "stream",
          "name": "stdout",
          "text": [
            "1/1 [==============================] - 0s 36ms/step\n"
          ]
        },
        {
          "output_type": "execute_result",
          "data": {
            "text/plain": [
              "'bear'"
            ],
            "application/vnd.google.colaboratory.intrinsic+json": {
              "type": "string"
            }
          },
          "metadata": {},
          "execution_count": 56
        }
      ]
    },
    {
      "cell_type": "code",
      "source": [
        "#Test 4\n",
        "img = image.load_img('/content/drive/MyDrive/Train/bee/0d562e4829.jpg',target_size=(64,64))\n",
        "f = image.img_to_array(img) \n",
        "f = np.expand_dims(f,axis=0) \n",
        "pred = np.argmax(model.predict(f)) \n",
        "op = ['badger','bat','bear','bee','beetle','bison'] \n",
        "op[pred] "
      ],
      "metadata": {
        "colab": {
          "base_uri": "https://localhost:8080/",
          "height": 53
        },
        "id": "QdtDY0PApCOH",
        "outputId": "ab4371bd-782d-4c6e-c5e7-1bec1defd4bc"
      },
      "execution_count": 57,
      "outputs": [
        {
          "output_type": "stream",
          "name": "stdout",
          "text": [
            "1/1 [==============================] - 0s 33ms/step\n"
          ]
        },
        {
          "output_type": "execute_result",
          "data": {
            "text/plain": [
              "'bee'"
            ],
            "application/vnd.google.colaboratory.intrinsic+json": {
              "type": "string"
            }
          },
          "metadata": {},
          "execution_count": 57
        }
      ]
    },
    {
      "cell_type": "code",
      "source": [
        "#Test 5\n",
        "img = image.load_img('/content/drive/MyDrive/Train/beetle/0f72117666.jpg',target_size=(64,64))\n",
        "f = image.img_to_array(img) \n",
        "f = np.expand_dims(f,axis=0) \n",
        "pred = np.argmax(model.predict(f)) \n",
        "op = ['badger','bat','bear','bee','beetle','bison'] \n",
        "op[pred] "
      ],
      "metadata": {
        "colab": {
          "base_uri": "https://localhost:8080/",
          "height": 53
        },
        "id": "Url3ImB2pQgM",
        "outputId": "68b31490-9d29-4c5f-96c8-380cbf56e689"
      },
      "execution_count": 58,
      "outputs": [
        {
          "output_type": "stream",
          "name": "stdout",
          "text": [
            "1/1 [==============================] - 0s 35ms/step\n"
          ]
        },
        {
          "output_type": "execute_result",
          "data": {
            "text/plain": [
              "'beetle'"
            ],
            "application/vnd.google.colaboratory.intrinsic+json": {
              "type": "string"
            }
          },
          "metadata": {},
          "execution_count": 58
        }
      ]
    },
    {
      "cell_type": "code",
      "source": [
        "#Test 6\n",
        "img = image.load_img('/content/drive/MyDrive/Train/bison/0cd71800f3.jpg',target_size=(64,64))\n",
        "f = image.img_to_array(img) \n",
        "f = np.expand_dims(f,axis=0) \n",
        "pred = np.argmax(model.predict(f)) \n",
        "op = ['badger','bat','bear','bee','beetle','bison'] \n",
        "op[pred] "
      ],
      "metadata": {
        "colab": {
          "base_uri": "https://localhost:8080/",
          "height": 53
        },
        "id": "7w8M70repfbT",
        "outputId": "90dfad0b-40c3-4e19-c5d3-e114a9118789"
      },
      "execution_count": 59,
      "outputs": [
        {
          "output_type": "stream",
          "name": "stdout",
          "text": [
            "1/1 [==============================] - 0s 33ms/step\n"
          ]
        },
        {
          "output_type": "execute_result",
          "data": {
            "text/plain": [
              "'bison'"
            ],
            "application/vnd.google.colaboratory.intrinsic+json": {
              "type": "string"
            }
          },
          "metadata": {},
          "execution_count": 59
        }
      ]
    }
  ]
}